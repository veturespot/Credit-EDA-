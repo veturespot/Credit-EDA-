{
 "cells": [
  {
   "cell_type": "code",
   "execution_count": 1,
   "metadata": {},
   "outputs": [],
   "source": [
    "import pandas as pd, numpy as np\n",
    "import matplotlib.pyplot as plt, seaborn as sns\n",
    "import warnings\n",
    "warnings.filterwarnings('ignore')"
   ]
  },
  {
   "cell_type": "markdown",
   "metadata": {},
   "source": [
    "# APPLICATION DATASET"
   ]
  },
  {
   "cell_type": "code",
   "execution_count": 2,
   "metadata": {},
   "outputs": [
    {
     "data": {
      "text/html": [
       "<div>\n",
       "<style scoped>\n",
       "    .dataframe tbody tr th:only-of-type {\n",
       "        vertical-align: middle;\n",
       "    }\n",
       "\n",
       "    .dataframe tbody tr th {\n",
       "        vertical-align: top;\n",
       "    }\n",
       "\n",
       "    .dataframe thead th {\n",
       "        text-align: right;\n",
       "    }\n",
       "</style>\n",
       "<table border=\"1\" class=\"dataframe\">\n",
       "  <thead>\n",
       "    <tr style=\"text-align: right;\">\n",
       "      <th></th>\n",
       "      <th>SK_ID_CURR</th>\n",
       "      <th>TARGET</th>\n",
       "      <th>NAME_CONTRACT_TYPE</th>\n",
       "      <th>CODE_GENDER</th>\n",
       "      <th>FLAG_OWN_CAR</th>\n",
       "      <th>FLAG_OWN_REALTY</th>\n",
       "      <th>CNT_CHILDREN</th>\n",
       "      <th>AMT_INCOME_TOTAL</th>\n",
       "      <th>AMT_CREDIT</th>\n",
       "      <th>AMT_ANNUITY</th>\n",
       "      <th>...</th>\n",
       "      <th>FLAG_DOCUMENT_18</th>\n",
       "      <th>FLAG_DOCUMENT_19</th>\n",
       "      <th>FLAG_DOCUMENT_20</th>\n",
       "      <th>FLAG_DOCUMENT_21</th>\n",
       "      <th>AMT_REQ_CREDIT_BUREAU_HOUR</th>\n",
       "      <th>AMT_REQ_CREDIT_BUREAU_DAY</th>\n",
       "      <th>AMT_REQ_CREDIT_BUREAU_WEEK</th>\n",
       "      <th>AMT_REQ_CREDIT_BUREAU_MON</th>\n",
       "      <th>AMT_REQ_CREDIT_BUREAU_QRT</th>\n",
       "      <th>AMT_REQ_CREDIT_BUREAU_YEAR</th>\n",
       "    </tr>\n",
       "  </thead>\n",
       "  <tbody>\n",
       "    <tr>\n",
       "      <th>0</th>\n",
       "      <td>100002</td>\n",
       "      <td>1</td>\n",
       "      <td>Cash loans</td>\n",
       "      <td>M</td>\n",
       "      <td>N</td>\n",
       "      <td>Y</td>\n",
       "      <td>0</td>\n",
       "      <td>202500.0</td>\n",
       "      <td>406597.5</td>\n",
       "      <td>24700.5</td>\n",
       "      <td>...</td>\n",
       "      <td>0</td>\n",
       "      <td>0</td>\n",
       "      <td>0</td>\n",
       "      <td>0</td>\n",
       "      <td>0.0</td>\n",
       "      <td>0.0</td>\n",
       "      <td>0.0</td>\n",
       "      <td>0.0</td>\n",
       "      <td>0.0</td>\n",
       "      <td>1.0</td>\n",
       "    </tr>\n",
       "    <tr>\n",
       "      <th>1</th>\n",
       "      <td>100003</td>\n",
       "      <td>0</td>\n",
       "      <td>Cash loans</td>\n",
       "      <td>F</td>\n",
       "      <td>N</td>\n",
       "      <td>N</td>\n",
       "      <td>0</td>\n",
       "      <td>270000.0</td>\n",
       "      <td>1293502.5</td>\n",
       "      <td>35698.5</td>\n",
       "      <td>...</td>\n",
       "      <td>0</td>\n",
       "      <td>0</td>\n",
       "      <td>0</td>\n",
       "      <td>0</td>\n",
       "      <td>0.0</td>\n",
       "      <td>0.0</td>\n",
       "      <td>0.0</td>\n",
       "      <td>0.0</td>\n",
       "      <td>0.0</td>\n",
       "      <td>0.0</td>\n",
       "    </tr>\n",
       "    <tr>\n",
       "      <th>2</th>\n",
       "      <td>100004</td>\n",
       "      <td>0</td>\n",
       "      <td>Revolving loans</td>\n",
       "      <td>M</td>\n",
       "      <td>Y</td>\n",
       "      <td>Y</td>\n",
       "      <td>0</td>\n",
       "      <td>67500.0</td>\n",
       "      <td>135000.0</td>\n",
       "      <td>6750.0</td>\n",
       "      <td>...</td>\n",
       "      <td>0</td>\n",
       "      <td>0</td>\n",
       "      <td>0</td>\n",
       "      <td>0</td>\n",
       "      <td>0.0</td>\n",
       "      <td>0.0</td>\n",
       "      <td>0.0</td>\n",
       "      <td>0.0</td>\n",
       "      <td>0.0</td>\n",
       "      <td>0.0</td>\n",
       "    </tr>\n",
       "    <tr>\n",
       "      <th>3</th>\n",
       "      <td>100006</td>\n",
       "      <td>0</td>\n",
       "      <td>Cash loans</td>\n",
       "      <td>F</td>\n",
       "      <td>N</td>\n",
       "      <td>Y</td>\n",
       "      <td>0</td>\n",
       "      <td>135000.0</td>\n",
       "      <td>312682.5</td>\n",
       "      <td>29686.5</td>\n",
       "      <td>...</td>\n",
       "      <td>0</td>\n",
       "      <td>0</td>\n",
       "      <td>0</td>\n",
       "      <td>0</td>\n",
       "      <td>NaN</td>\n",
       "      <td>NaN</td>\n",
       "      <td>NaN</td>\n",
       "      <td>NaN</td>\n",
       "      <td>NaN</td>\n",
       "      <td>NaN</td>\n",
       "    </tr>\n",
       "    <tr>\n",
       "      <th>4</th>\n",
       "      <td>100007</td>\n",
       "      <td>0</td>\n",
       "      <td>Cash loans</td>\n",
       "      <td>M</td>\n",
       "      <td>N</td>\n",
       "      <td>Y</td>\n",
       "      <td>0</td>\n",
       "      <td>121500.0</td>\n",
       "      <td>513000.0</td>\n",
       "      <td>21865.5</td>\n",
       "      <td>...</td>\n",
       "      <td>0</td>\n",
       "      <td>0</td>\n",
       "      <td>0</td>\n",
       "      <td>0</td>\n",
       "      <td>0.0</td>\n",
       "      <td>0.0</td>\n",
       "      <td>0.0</td>\n",
       "      <td>0.0</td>\n",
       "      <td>0.0</td>\n",
       "      <td>0.0</td>\n",
       "    </tr>\n",
       "  </tbody>\n",
       "</table>\n",
       "<p>5 rows × 122 columns</p>\n",
       "</div>"
      ],
      "text/plain": [
       "   SK_ID_CURR  TARGET NAME_CONTRACT_TYPE CODE_GENDER FLAG_OWN_CAR  \\\n",
       "0      100002       1         Cash loans           M            N   \n",
       "1      100003       0         Cash loans           F            N   \n",
       "2      100004       0    Revolving loans           M            Y   \n",
       "3      100006       0         Cash loans           F            N   \n",
       "4      100007       0         Cash loans           M            N   \n",
       "\n",
       "  FLAG_OWN_REALTY  CNT_CHILDREN  AMT_INCOME_TOTAL  AMT_CREDIT  AMT_ANNUITY  \\\n",
       "0               Y             0          202500.0    406597.5      24700.5   \n",
       "1               N             0          270000.0   1293502.5      35698.5   \n",
       "2               Y             0           67500.0    135000.0       6750.0   \n",
       "3               Y             0          135000.0    312682.5      29686.5   \n",
       "4               Y             0          121500.0    513000.0      21865.5   \n",
       "\n",
       "   ...  FLAG_DOCUMENT_18 FLAG_DOCUMENT_19 FLAG_DOCUMENT_20 FLAG_DOCUMENT_21  \\\n",
       "0  ...                 0                0                0                0   \n",
       "1  ...                 0                0                0                0   \n",
       "2  ...                 0                0                0                0   \n",
       "3  ...                 0                0                0                0   \n",
       "4  ...                 0                0                0                0   \n",
       "\n",
       "  AMT_REQ_CREDIT_BUREAU_HOUR AMT_REQ_CREDIT_BUREAU_DAY  \\\n",
       "0                        0.0                       0.0   \n",
       "1                        0.0                       0.0   \n",
       "2                        0.0                       0.0   \n",
       "3                        NaN                       NaN   \n",
       "4                        0.0                       0.0   \n",
       "\n",
       "   AMT_REQ_CREDIT_BUREAU_WEEK  AMT_REQ_CREDIT_BUREAU_MON  \\\n",
       "0                         0.0                        0.0   \n",
       "1                         0.0                        0.0   \n",
       "2                         0.0                        0.0   \n",
       "3                         NaN                        NaN   \n",
       "4                         0.0                        0.0   \n",
       "\n",
       "   AMT_REQ_CREDIT_BUREAU_QRT  AMT_REQ_CREDIT_BUREAU_YEAR  \n",
       "0                        0.0                         1.0  \n",
       "1                        0.0                         0.0  \n",
       "2                        0.0                         0.0  \n",
       "3                        NaN                         NaN  \n",
       "4                        0.0                         0.0  \n",
       "\n",
       "[5 rows x 122 columns]"
      ]
     },
     "execution_count": 2,
     "metadata": {},
     "output_type": "execute_result"
    }
   ],
   "source": [
    "#importing application data \n",
    "\n",
    "application = pd.read_csv('C:/Users/tdksi/OneDrive/Desktop/Gaurav/IIIT B Data Sciecne/EDA/Credit EDA/application_data (2).csv')\n",
    "application.head()"
   ]
  },
  {
   "cell_type": "code",
   "execution_count": 3,
   "metadata": {},
   "outputs": [
    {
     "data": {
      "text/plain": [
       "(307511, 122)"
      ]
     },
     "execution_count": 3,
     "metadata": {},
     "output_type": "execute_result"
    }
   ],
   "source": [
    "application.shape"
   ]
  },
  {
   "cell_type": "code",
   "execution_count": 4,
   "metadata": {},
   "outputs": [
    {
     "name": "stdout",
     "output_type": "stream",
     "text": [
      "<class 'pandas.core.frame.DataFrame'>\n",
      "RangeIndex: 307511 entries, 0 to 307510\n",
      "Columns: 122 entries, SK_ID_CURR to AMT_REQ_CREDIT_BUREAU_YEAR\n",
      "dtypes: float64(65), int64(41), object(16)\n",
      "memory usage: 286.2+ MB\n"
     ]
    }
   ],
   "source": [
    "application.info()"
   ]
  },
  {
   "cell_type": "markdown",
   "metadata": {},
   "source": [
    "# DATA CLEANING"
   ]
  },
  {
   "cell_type": "code",
   "execution_count": 5,
   "metadata": {},
   "outputs": [
    {
     "data": {
      "text/html": [
       "<div>\n",
       "<style scoped>\n",
       "    .dataframe tbody tr th:only-of-type {\n",
       "        vertical-align: middle;\n",
       "    }\n",
       "\n",
       "    .dataframe tbody tr th {\n",
       "        vertical-align: top;\n",
       "    }\n",
       "\n",
       "    .dataframe thead th {\n",
       "        text-align: right;\n",
       "    }\n",
       "</style>\n",
       "<table border=\"1\" class=\"dataframe\">\n",
       "  <thead>\n",
       "    <tr style=\"text-align: right;\">\n",
       "      <th></th>\n",
       "      <th>TARGET</th>\n",
       "      <th>NAME_CONTRACT_TYPE</th>\n",
       "      <th>CODE_GENDER</th>\n",
       "      <th>FLAG_OWN_CAR</th>\n",
       "      <th>FLAG_OWN_REALTY</th>\n",
       "      <th>AMT_INCOME_TOTAL</th>\n",
       "      <th>AMT_CREDIT</th>\n",
       "      <th>AMT_GOODS_PRICE</th>\n",
       "      <th>NAME_TYPE_SUITE</th>\n",
       "      <th>NAME_INCOME_TYPE</th>\n",
       "      <th>...</th>\n",
       "      <th>REG_REGION_NOT_LIVE_REGION</th>\n",
       "      <th>REG_REGION_NOT_WORK_REGION</th>\n",
       "      <th>ORGANIZATION_TYPE</th>\n",
       "      <th>DAYS_LAST_PHONE_CHANGE</th>\n",
       "      <th>AMT_REQ_CREDIT_BUREAU_HOUR</th>\n",
       "      <th>AMT_REQ_CREDIT_BUREAU_DAY</th>\n",
       "      <th>AMT_REQ_CREDIT_BUREAU_WEEK</th>\n",
       "      <th>AMT_REQ_CREDIT_BUREAU_MON</th>\n",
       "      <th>AMT_REQ_CREDIT_BUREAU_QRT</th>\n",
       "      <th>AMT_REQ_CREDIT_BUREAU_YEAR</th>\n",
       "    </tr>\n",
       "  </thead>\n",
       "  <tbody>\n",
       "    <tr>\n",
       "      <th>0</th>\n",
       "      <td>1</td>\n",
       "      <td>Cash loans</td>\n",
       "      <td>M</td>\n",
       "      <td>N</td>\n",
       "      <td>Y</td>\n",
       "      <td>202500.0</td>\n",
       "      <td>406597.5</td>\n",
       "      <td>351000.0</td>\n",
       "      <td>Unaccompanied</td>\n",
       "      <td>Working</td>\n",
       "      <td>...</td>\n",
       "      <td>0</td>\n",
       "      <td>0</td>\n",
       "      <td>Business Entity Type 3</td>\n",
       "      <td>-1134.0</td>\n",
       "      <td>0.0</td>\n",
       "      <td>0.0</td>\n",
       "      <td>0.0</td>\n",
       "      <td>0.0</td>\n",
       "      <td>0.0</td>\n",
       "      <td>1.0</td>\n",
       "    </tr>\n",
       "    <tr>\n",
       "      <th>1</th>\n",
       "      <td>0</td>\n",
       "      <td>Cash loans</td>\n",
       "      <td>F</td>\n",
       "      <td>N</td>\n",
       "      <td>N</td>\n",
       "      <td>270000.0</td>\n",
       "      <td>1293502.5</td>\n",
       "      <td>1129500.0</td>\n",
       "      <td>Family</td>\n",
       "      <td>State servant</td>\n",
       "      <td>...</td>\n",
       "      <td>0</td>\n",
       "      <td>0</td>\n",
       "      <td>School</td>\n",
       "      <td>-828.0</td>\n",
       "      <td>0.0</td>\n",
       "      <td>0.0</td>\n",
       "      <td>0.0</td>\n",
       "      <td>0.0</td>\n",
       "      <td>0.0</td>\n",
       "      <td>0.0</td>\n",
       "    </tr>\n",
       "    <tr>\n",
       "      <th>2</th>\n",
       "      <td>0</td>\n",
       "      <td>Revolving loans</td>\n",
       "      <td>M</td>\n",
       "      <td>Y</td>\n",
       "      <td>Y</td>\n",
       "      <td>67500.0</td>\n",
       "      <td>135000.0</td>\n",
       "      <td>135000.0</td>\n",
       "      <td>Unaccompanied</td>\n",
       "      <td>Working</td>\n",
       "      <td>...</td>\n",
       "      <td>0</td>\n",
       "      <td>0</td>\n",
       "      <td>Government</td>\n",
       "      <td>-815.0</td>\n",
       "      <td>0.0</td>\n",
       "      <td>0.0</td>\n",
       "      <td>0.0</td>\n",
       "      <td>0.0</td>\n",
       "      <td>0.0</td>\n",
       "      <td>0.0</td>\n",
       "    </tr>\n",
       "    <tr>\n",
       "      <th>3</th>\n",
       "      <td>0</td>\n",
       "      <td>Cash loans</td>\n",
       "      <td>F</td>\n",
       "      <td>N</td>\n",
       "      <td>Y</td>\n",
       "      <td>135000.0</td>\n",
       "      <td>312682.5</td>\n",
       "      <td>297000.0</td>\n",
       "      <td>Unaccompanied</td>\n",
       "      <td>Working</td>\n",
       "      <td>...</td>\n",
       "      <td>0</td>\n",
       "      <td>0</td>\n",
       "      <td>Business Entity Type 3</td>\n",
       "      <td>-617.0</td>\n",
       "      <td>NaN</td>\n",
       "      <td>NaN</td>\n",
       "      <td>NaN</td>\n",
       "      <td>NaN</td>\n",
       "      <td>NaN</td>\n",
       "      <td>NaN</td>\n",
       "    </tr>\n",
       "    <tr>\n",
       "      <th>4</th>\n",
       "      <td>0</td>\n",
       "      <td>Cash loans</td>\n",
       "      <td>M</td>\n",
       "      <td>N</td>\n",
       "      <td>Y</td>\n",
       "      <td>121500.0</td>\n",
       "      <td>513000.0</td>\n",
       "      <td>513000.0</td>\n",
       "      <td>Unaccompanied</td>\n",
       "      <td>Working</td>\n",
       "      <td>...</td>\n",
       "      <td>0</td>\n",
       "      <td>0</td>\n",
       "      <td>Religion</td>\n",
       "      <td>-1106.0</td>\n",
       "      <td>0.0</td>\n",
       "      <td>0.0</td>\n",
       "      <td>0.0</td>\n",
       "      <td>0.0</td>\n",
       "      <td>0.0</td>\n",
       "      <td>0.0</td>\n",
       "    </tr>\n",
       "    <tr>\n",
       "      <th>...</th>\n",
       "      <td>...</td>\n",
       "      <td>...</td>\n",
       "      <td>...</td>\n",
       "      <td>...</td>\n",
       "      <td>...</td>\n",
       "      <td>...</td>\n",
       "      <td>...</td>\n",
       "      <td>...</td>\n",
       "      <td>...</td>\n",
       "      <td>...</td>\n",
       "      <td>...</td>\n",
       "      <td>...</td>\n",
       "      <td>...</td>\n",
       "      <td>...</td>\n",
       "      <td>...</td>\n",
       "      <td>...</td>\n",
       "      <td>...</td>\n",
       "      <td>...</td>\n",
       "      <td>...</td>\n",
       "      <td>...</td>\n",
       "      <td>...</td>\n",
       "    </tr>\n",
       "    <tr>\n",
       "      <th>307506</th>\n",
       "      <td>0</td>\n",
       "      <td>Cash loans</td>\n",
       "      <td>M</td>\n",
       "      <td>N</td>\n",
       "      <td>N</td>\n",
       "      <td>157500.0</td>\n",
       "      <td>254700.0</td>\n",
       "      <td>225000.0</td>\n",
       "      <td>Unaccompanied</td>\n",
       "      <td>Working</td>\n",
       "      <td>...</td>\n",
       "      <td>0</td>\n",
       "      <td>0</td>\n",
       "      <td>Services</td>\n",
       "      <td>-273.0</td>\n",
       "      <td>NaN</td>\n",
       "      <td>NaN</td>\n",
       "      <td>NaN</td>\n",
       "      <td>NaN</td>\n",
       "      <td>NaN</td>\n",
       "      <td>NaN</td>\n",
       "    </tr>\n",
       "    <tr>\n",
       "      <th>307507</th>\n",
       "      <td>0</td>\n",
       "      <td>Cash loans</td>\n",
       "      <td>F</td>\n",
       "      <td>N</td>\n",
       "      <td>Y</td>\n",
       "      <td>72000.0</td>\n",
       "      <td>269550.0</td>\n",
       "      <td>225000.0</td>\n",
       "      <td>Unaccompanied</td>\n",
       "      <td>Pensioner</td>\n",
       "      <td>...</td>\n",
       "      <td>0</td>\n",
       "      <td>0</td>\n",
       "      <td>XNA</td>\n",
       "      <td>0.0</td>\n",
       "      <td>NaN</td>\n",
       "      <td>NaN</td>\n",
       "      <td>NaN</td>\n",
       "      <td>NaN</td>\n",
       "      <td>NaN</td>\n",
       "      <td>NaN</td>\n",
       "    </tr>\n",
       "    <tr>\n",
       "      <th>307508</th>\n",
       "      <td>0</td>\n",
       "      <td>Cash loans</td>\n",
       "      <td>F</td>\n",
       "      <td>N</td>\n",
       "      <td>Y</td>\n",
       "      <td>153000.0</td>\n",
       "      <td>677664.0</td>\n",
       "      <td>585000.0</td>\n",
       "      <td>Unaccompanied</td>\n",
       "      <td>Working</td>\n",
       "      <td>...</td>\n",
       "      <td>0</td>\n",
       "      <td>0</td>\n",
       "      <td>School</td>\n",
       "      <td>-1909.0</td>\n",
       "      <td>1.0</td>\n",
       "      <td>0.0</td>\n",
       "      <td>0.0</td>\n",
       "      <td>1.0</td>\n",
       "      <td>0.0</td>\n",
       "      <td>1.0</td>\n",
       "    </tr>\n",
       "    <tr>\n",
       "      <th>307509</th>\n",
       "      <td>1</td>\n",
       "      <td>Cash loans</td>\n",
       "      <td>F</td>\n",
       "      <td>N</td>\n",
       "      <td>Y</td>\n",
       "      <td>171000.0</td>\n",
       "      <td>370107.0</td>\n",
       "      <td>319500.0</td>\n",
       "      <td>Unaccompanied</td>\n",
       "      <td>Commercial associate</td>\n",
       "      <td>...</td>\n",
       "      <td>0</td>\n",
       "      <td>0</td>\n",
       "      <td>Business Entity Type 1</td>\n",
       "      <td>-322.0</td>\n",
       "      <td>0.0</td>\n",
       "      <td>0.0</td>\n",
       "      <td>0.0</td>\n",
       "      <td>0.0</td>\n",
       "      <td>0.0</td>\n",
       "      <td>0.0</td>\n",
       "    </tr>\n",
       "    <tr>\n",
       "      <th>307510</th>\n",
       "      <td>0</td>\n",
       "      <td>Cash loans</td>\n",
       "      <td>F</td>\n",
       "      <td>N</td>\n",
       "      <td>N</td>\n",
       "      <td>157500.0</td>\n",
       "      <td>675000.0</td>\n",
       "      <td>675000.0</td>\n",
       "      <td>Unaccompanied</td>\n",
       "      <td>Commercial associate</td>\n",
       "      <td>...</td>\n",
       "      <td>0</td>\n",
       "      <td>0</td>\n",
       "      <td>Business Entity Type 3</td>\n",
       "      <td>-787.0</td>\n",
       "      <td>0.0</td>\n",
       "      <td>0.0</td>\n",
       "      <td>0.0</td>\n",
       "      <td>2.0</td>\n",
       "      <td>0.0</td>\n",
       "      <td>1.0</td>\n",
       "    </tr>\n",
       "  </tbody>\n",
       "</table>\n",
       "<p>307511 rows × 28 columns</p>\n",
       "</div>"
      ],
      "text/plain": [
       "        TARGET NAME_CONTRACT_TYPE CODE_GENDER FLAG_OWN_CAR FLAG_OWN_REALTY  \\\n",
       "0            1         Cash loans           M            N               Y   \n",
       "1            0         Cash loans           F            N               N   \n",
       "2            0    Revolving loans           M            Y               Y   \n",
       "3            0         Cash loans           F            N               Y   \n",
       "4            0         Cash loans           M            N               Y   \n",
       "...        ...                ...         ...          ...             ...   \n",
       "307506       0         Cash loans           M            N               N   \n",
       "307507       0         Cash loans           F            N               Y   \n",
       "307508       0         Cash loans           F            N               Y   \n",
       "307509       1         Cash loans           F            N               Y   \n",
       "307510       0         Cash loans           F            N               N   \n",
       "\n",
       "        AMT_INCOME_TOTAL  AMT_CREDIT  AMT_GOODS_PRICE NAME_TYPE_SUITE  \\\n",
       "0               202500.0    406597.5         351000.0   Unaccompanied   \n",
       "1               270000.0   1293502.5        1129500.0          Family   \n",
       "2                67500.0    135000.0         135000.0   Unaccompanied   \n",
       "3               135000.0    312682.5         297000.0   Unaccompanied   \n",
       "4               121500.0    513000.0         513000.0   Unaccompanied   \n",
       "...                  ...         ...              ...             ...   \n",
       "307506          157500.0    254700.0         225000.0   Unaccompanied   \n",
       "307507           72000.0    269550.0         225000.0   Unaccompanied   \n",
       "307508          153000.0    677664.0         585000.0   Unaccompanied   \n",
       "307509          171000.0    370107.0         319500.0   Unaccompanied   \n",
       "307510          157500.0    675000.0         675000.0   Unaccompanied   \n",
       "\n",
       "            NAME_INCOME_TYPE  ... REG_REGION_NOT_LIVE_REGION  \\\n",
       "0                    Working  ...                          0   \n",
       "1              State servant  ...                          0   \n",
       "2                    Working  ...                          0   \n",
       "3                    Working  ...                          0   \n",
       "4                    Working  ...                          0   \n",
       "...                      ...  ...                        ...   \n",
       "307506               Working  ...                          0   \n",
       "307507             Pensioner  ...                          0   \n",
       "307508               Working  ...                          0   \n",
       "307509  Commercial associate  ...                          0   \n",
       "307510  Commercial associate  ...                          0   \n",
       "\n",
       "       REG_REGION_NOT_WORK_REGION       ORGANIZATION_TYPE  \\\n",
       "0                               0  Business Entity Type 3   \n",
       "1                               0                  School   \n",
       "2                               0              Government   \n",
       "3                               0  Business Entity Type 3   \n",
       "4                               0                Religion   \n",
       "...                           ...                     ...   \n",
       "307506                          0                Services   \n",
       "307507                          0                     XNA   \n",
       "307508                          0                  School   \n",
       "307509                          0  Business Entity Type 1   \n",
       "307510                          0  Business Entity Type 3   \n",
       "\n",
       "        DAYS_LAST_PHONE_CHANGE  AMT_REQ_CREDIT_BUREAU_HOUR  \\\n",
       "0                      -1134.0                         0.0   \n",
       "1                       -828.0                         0.0   \n",
       "2                       -815.0                         0.0   \n",
       "3                       -617.0                         NaN   \n",
       "4                      -1106.0                         0.0   \n",
       "...                        ...                         ...   \n",
       "307506                  -273.0                         NaN   \n",
       "307507                     0.0                         NaN   \n",
       "307508                 -1909.0                         1.0   \n",
       "307509                  -322.0                         0.0   \n",
       "307510                  -787.0                         0.0   \n",
       "\n",
       "        AMT_REQ_CREDIT_BUREAU_DAY  AMT_REQ_CREDIT_BUREAU_WEEK  \\\n",
       "0                             0.0                         0.0   \n",
       "1                             0.0                         0.0   \n",
       "2                             0.0                         0.0   \n",
       "3                             NaN                         NaN   \n",
       "4                             0.0                         0.0   \n",
       "...                           ...                         ...   \n",
       "307506                        NaN                         NaN   \n",
       "307507                        NaN                         NaN   \n",
       "307508                        0.0                         0.0   \n",
       "307509                        0.0                         0.0   \n",
       "307510                        0.0                         0.0   \n",
       "\n",
       "       AMT_REQ_CREDIT_BUREAU_MON  AMT_REQ_CREDIT_BUREAU_QRT  \\\n",
       "0                            0.0                        0.0   \n",
       "1                            0.0                        0.0   \n",
       "2                            0.0                        0.0   \n",
       "3                            NaN                        NaN   \n",
       "4                            0.0                        0.0   \n",
       "...                          ...                        ...   \n",
       "307506                       NaN                        NaN   \n",
       "307507                       NaN                        NaN   \n",
       "307508                       1.0                        0.0   \n",
       "307509                       0.0                        0.0   \n",
       "307510                       2.0                        0.0   \n",
       "\n",
       "        AMT_REQ_CREDIT_BUREAU_YEAR  \n",
       "0                              1.0  \n",
       "1                              0.0  \n",
       "2                              0.0  \n",
       "3                              NaN  \n",
       "4                              0.0  \n",
       "...                            ...  \n",
       "307506                         NaN  \n",
       "307507                         NaN  \n",
       "307508                         1.0  \n",
       "307509                         0.0  \n",
       "307510                         1.0  \n",
       "\n",
       "[307511 rows x 28 columns]"
      ]
     },
     "execution_count": 5,
     "metadata": {},
     "output_type": "execute_result"
    }
   ],
   "source": [
    "#DELETING UNWANTED COLUMNS FOR OUR ANALYSIS\n",
    "\n",
    "application = application.drop(['SK_ID_CURR','FLAG_MOBIL','FLAG_EMP_PHONE','FLAG_WORK_PHONE','FLAG_CONT_MOBILE','FLAG_PHONE','FLAG_EMAIL','FLAG_DOCUMENT_4','FLAG_DOCUMENT_5','FLAG_DOCUMENT_6','FLAG_DOCUMENT_7','FLAG_DOCUMENT_8','FLAG_DOCUMENT_9','FLAG_DOCUMENT_10','FLAG_DOCUMENT_11','FLAG_DOCUMENT_12','FLAG_DOCUMENT_13','FLAG_DOCUMENT_14','FLAG_DOCUMENT_15','FLAG_DOCUMENT_16','FLAG_DOCUMENT_17','FLAG_DOCUMENT_18','FLAG_DOCUMENT_19','FLAG_DOCUMENT_20','FLAG_DOCUMENT_21','NONLIVINGAREA_MODE','NONLIVINGAPARTMENTS_MODE','FLOORSMAX_MODE','OCCUPATION_TYPE','OWN_CAR_AGE','YEARS_BUILD_MODE','YEARS_BEGINEXPLUATATION_MODE','BASEMENTAREA_MODE','APARTMENTS_MODE','NONLIVINGAREA_AVG','NONLIVINGAPARTMENTS_AVG','LIVINGAREA_AVG','LIVINGAPARTMENTS_AVG','LANDAREA_AVG','FLOORSMIN_AVG','EMERGENCYSTATE_MODE','WALLSMATERIAL_MODE','TOTALAREA_MODE','HOUSETYPE_MODE','FONDKAPREMONT_MODE','NONLIVINGAREA_MEDI','NONLIVINGAPARTMENTS_MEDI','LIVINGAREA_MEDI','LIVINGAPARTMENTS_MEDI','LANDAREA_MEDI','FLOORSMIN_MEDI','FLOORSMAX_MEDI','ENTRANCES_MEDI','ELEVATORS_MEDI','COMMONAREA_MEDI','YEARS_BUILD_MEDI','YEARS_BEGINEXPLUATATION_MEDI','BASEMENTAREA_MEDI','APARTMENTS_MEDI','FLOORSMAX_AVG','FLOORSMIN_AVG','NONLIVINGAREA_AVG','NONLIVINGAPARTMENTS_AVG','LIVINGAREA_AVG','LIVINGAPARTMENTS_AVG','LANDAREA_AVG','APARTMENTS_MODE','BASEMENTAREA_MODE','YEARS_BEGINEXPLUATATION_MODE','YEARS_BUILD_MODE','COMMONAREA_MODE','ELEVATORS_MODE','ENTRANCES_MODE','FLOORSMIN_MODE','LANDAREA_MODE','LIVINGAPARTMENTS_MODE','LIVINGAREA_MODE','ENTRANCES_AVG','APARTMENTS_AVG','BASEMENTAREA_AVG','YEARS_BEGINEXPLUATATION_AVG','YEARS_BUILD_AVG','COMMONAREA_AVG','ELEVATORS_AVG','EXT_SOURCE_3','EXT_SOURCE_1','DAYS_ID_PUBLISH','DAYS_REGISTRATION','CNT_CHILDREN','AMT_ANNUITY','FLAG_DOCUMENT_2','FLAG_DOCUMENT_3','EXT_SOURCE_2','OBS_30_CNT_SOCIAL_CIRCLE','DEF_30_CNT_SOCIAL_CIRCLE','OBS_60_CNT_SOCIAL_CIRCLE','DEF_60_CNT_SOCIAL_CIRCLE','REGION_POPULATION_RELATIVE','FLAG_WORK_PHONE','FLAG_CONT_MOBILE','FLAG_EMP_PHONE','REGION_RATING_CLIENT_W_CITY','HOUR_APPR_PROCESS_START','LIVE_REGION_NOT_WORK_REGION','REG_CITY_NOT_LIVE_CITY','REG_CITY_NOT_WORK_CITY','LIVE_CITY_NOT_WORK_CITY'],axis=1)\n",
    "application"
   ]
  },
  {
   "cell_type": "code",
   "execution_count": 6,
   "metadata": {},
   "outputs": [
    {
     "name": "stdout",
     "output_type": "stream",
     "text": [
      "<class 'pandas.core.frame.DataFrame'>\n",
      "RangeIndex: 307511 entries, 0 to 307510\n",
      "Data columns (total 28 columns):\n",
      " #   Column                      Non-Null Count   Dtype  \n",
      "---  ------                      --------------   -----  \n",
      " 0   TARGET                      307511 non-null  int64  \n",
      " 1   NAME_CONTRACT_TYPE          307511 non-null  object \n",
      " 2   CODE_GENDER                 307511 non-null  object \n",
      " 3   FLAG_OWN_CAR                307511 non-null  object \n",
      " 4   FLAG_OWN_REALTY             307511 non-null  object \n",
      " 5   AMT_INCOME_TOTAL            307511 non-null  float64\n",
      " 6   AMT_CREDIT                  307511 non-null  float64\n",
      " 7   AMT_GOODS_PRICE             307233 non-null  float64\n",
      " 8   NAME_TYPE_SUITE             306219 non-null  object \n",
      " 9   NAME_INCOME_TYPE            307511 non-null  object \n",
      " 10  NAME_EDUCATION_TYPE         307511 non-null  object \n",
      " 11  NAME_FAMILY_STATUS          307511 non-null  object \n",
      " 12  NAME_HOUSING_TYPE           307511 non-null  object \n",
      " 13  DAYS_BIRTH                  307511 non-null  int64  \n",
      " 14  DAYS_EMPLOYED               307511 non-null  int64  \n",
      " 15  CNT_FAM_MEMBERS             307509 non-null  float64\n",
      " 16  REGION_RATING_CLIENT        307511 non-null  int64  \n",
      " 17  WEEKDAY_APPR_PROCESS_START  307511 non-null  object \n",
      " 18  REG_REGION_NOT_LIVE_REGION  307511 non-null  int64  \n",
      " 19  REG_REGION_NOT_WORK_REGION  307511 non-null  int64  \n",
      " 20  ORGANIZATION_TYPE           307511 non-null  object \n",
      " 21  DAYS_LAST_PHONE_CHANGE      307510 non-null  float64\n",
      " 22  AMT_REQ_CREDIT_BUREAU_HOUR  265992 non-null  float64\n",
      " 23  AMT_REQ_CREDIT_BUREAU_DAY   265992 non-null  float64\n",
      " 24  AMT_REQ_CREDIT_BUREAU_WEEK  265992 non-null  float64\n",
      " 25  AMT_REQ_CREDIT_BUREAU_MON   265992 non-null  float64\n",
      " 26  AMT_REQ_CREDIT_BUREAU_QRT   265992 non-null  float64\n",
      " 27  AMT_REQ_CREDIT_BUREAU_YEAR  265992 non-null  float64\n",
      "dtypes: float64(11), int64(6), object(11)\n",
      "memory usage: 65.7+ MB\n"
     ]
    }
   ],
   "source": [
    "application.info()"
   ]
  },
  {
   "cell_type": "code",
   "execution_count": 7,
   "metadata": {},
   "outputs": [
    {
     "data": {
      "text/plain": [
       "(307511, 28)"
      ]
     },
     "execution_count": 7,
     "metadata": {},
     "output_type": "execute_result"
    }
   ],
   "source": [
    "application.shape"
   ]
  },
  {
   "cell_type": "markdown",
   "metadata": {},
   "source": [
    "Our unwanted columns are deleted. Now we will find missing values and then we will handle those missing values"
   ]
  },
  {
   "cell_type": "code",
   "execution_count": 8,
   "metadata": {},
   "outputs": [
    {
     "data": {
      "text/plain": [
       "TARGET                            0\n",
       "NAME_CONTRACT_TYPE                0\n",
       "CODE_GENDER                       0\n",
       "FLAG_OWN_CAR                      0\n",
       "FLAG_OWN_REALTY                   0\n",
       "AMT_INCOME_TOTAL                  0\n",
       "AMT_CREDIT                        0\n",
       "AMT_GOODS_PRICE                 278\n",
       "NAME_TYPE_SUITE                1292\n",
       "NAME_INCOME_TYPE                  0\n",
       "NAME_EDUCATION_TYPE               0\n",
       "NAME_FAMILY_STATUS                0\n",
       "NAME_HOUSING_TYPE                 0\n",
       "DAYS_BIRTH                        0\n",
       "DAYS_EMPLOYED                     0\n",
       "CNT_FAM_MEMBERS                   2\n",
       "REGION_RATING_CLIENT              0\n",
       "WEEKDAY_APPR_PROCESS_START        0\n",
       "REG_REGION_NOT_LIVE_REGION        0\n",
       "REG_REGION_NOT_WORK_REGION        0\n",
       "ORGANIZATION_TYPE                 0\n",
       "DAYS_LAST_PHONE_CHANGE            1\n",
       "AMT_REQ_CREDIT_BUREAU_HOUR    41519\n",
       "AMT_REQ_CREDIT_BUREAU_DAY     41519\n",
       "AMT_REQ_CREDIT_BUREAU_WEEK    41519\n",
       "AMT_REQ_CREDIT_BUREAU_MON     41519\n",
       "AMT_REQ_CREDIT_BUREAU_QRT     41519\n",
       "AMT_REQ_CREDIT_BUREAU_YEAR    41519\n",
       "dtype: int64"
      ]
     },
     "execution_count": 8,
     "metadata": {},
     "output_type": "execute_result"
    }
   ],
   "source": [
    "#checking for missing values\n",
    "application.isnull().sum()"
   ]
  },
  {
   "cell_type": "code",
   "execution_count": 9,
   "metadata": {},
   "outputs": [],
   "source": [
    "#deleting those columns which have 41519 missing values. \n",
    "\n",
    "application = application.drop(['AMT_REQ_CREDIT_BUREAU_HOUR'\n",
    ",'AMT_REQ_CREDIT_BUREAU_DAY'\n",
    ",'AMT_REQ_CREDIT_BUREAU_WEEK'\n",
    ",'AMT_REQ_CREDIT_BUREAU_MON'\n",
    ",'AMT_REQ_CREDIT_BUREAU_QRT'\n",
    ",'AMT_REQ_CREDIT_BUREAU_YEAR'], axis=1)"
   ]
  },
  {
   "cell_type": "code",
   "execution_count": 10,
   "metadata": {},
   "outputs": [
    {
     "data": {
      "text/plain": [
       "TARGET                           0\n",
       "NAME_CONTRACT_TYPE               0\n",
       "CODE_GENDER                      0\n",
       "FLAG_OWN_CAR                     0\n",
       "FLAG_OWN_REALTY                  0\n",
       "AMT_INCOME_TOTAL                 0\n",
       "AMT_CREDIT                       0\n",
       "AMT_GOODS_PRICE                278\n",
       "NAME_TYPE_SUITE               1292\n",
       "NAME_INCOME_TYPE                 0\n",
       "NAME_EDUCATION_TYPE              0\n",
       "NAME_FAMILY_STATUS               0\n",
       "NAME_HOUSING_TYPE                0\n",
       "DAYS_BIRTH                       0\n",
       "DAYS_EMPLOYED                    0\n",
       "CNT_FAM_MEMBERS                  2\n",
       "REGION_RATING_CLIENT             0\n",
       "WEEKDAY_APPR_PROCESS_START       0\n",
       "REG_REGION_NOT_LIVE_REGION       0\n",
       "REG_REGION_NOT_WORK_REGION       0\n",
       "ORGANIZATION_TYPE                0\n",
       "DAYS_LAST_PHONE_CHANGE           1\n",
       "dtype: int64"
      ]
     },
     "execution_count": 10,
     "metadata": {},
     "output_type": "execute_result"
    }
   ],
   "source": [
    "application.isnull().sum()"
   ]
  },
  {
   "cell_type": "code",
   "execution_count": 11,
   "metadata": {},
   "outputs": [
    {
     "data": {
      "text/plain": [
       "0          351000.0\n",
       "1         1129500.0\n",
       "2          135000.0\n",
       "3          297000.0\n",
       "4          513000.0\n",
       "            ...    \n",
       "307506     225000.0\n",
       "307507     225000.0\n",
       "307508     585000.0\n",
       "307509     319500.0\n",
       "307510     675000.0\n",
       "Name: AMT_GOODS_PRICE, Length: 307511, dtype: float64"
      ]
     },
     "execution_count": 11,
     "metadata": {},
     "output_type": "execute_result"
    }
   ],
   "source": [
    "#We can see that in AMT_GOODS_PRICE, NAME_TYPE_SUITE,CNT_FAM_MEMBERS,DAYS_LAST_PHONE_CHANGE   have missing values. So, will handle those columns. First, we will handle AMT_GOODS_PRICE. \n",
    "#We will fill this missing value column AMT_GOODS_PRICE by mode\n",
    "application.AMT_GOODS_PRICE"
   ]
  },
  {
   "cell_type": "code",
   "execution_count": 12,
   "metadata": {},
   "outputs": [],
   "source": [
    "apl_mode = application.AMT_GOODS_PRICE.mode()[0]"
   ]
  },
  {
   "cell_type": "code",
   "execution_count": 13,
   "metadata": {},
   "outputs": [],
   "source": [
    "application.AMT_GOODS_PRICE = application.AMT_GOODS_PRICE.fillna(apl_mode)"
   ]
  },
  {
   "cell_type": "code",
   "execution_count": 14,
   "metadata": {},
   "outputs": [
    {
     "data": {
      "text/plain": [
       "0"
      ]
     },
     "execution_count": 14,
     "metadata": {},
     "output_type": "execute_result"
    }
   ],
   "source": [
    "application['AMT_GOODS_PRICE'].isnull().sum()"
   ]
  },
  {
   "cell_type": "code",
   "execution_count": 15,
   "metadata": {},
   "outputs": [
    {
     "data": {
      "text/plain": [
       "array(['Unaccompanied', 'Family', 'Spouse, partner', 'Children',\n",
       "       'Other_A', nan, 'Other_B', 'Group of people'], dtype=object)"
      ]
     },
     "execution_count": 15,
     "metadata": {},
     "output_type": "execute_result"
    }
   ],
   "source": [
    "#We will handle NAME_TYPE_SUITE\n",
    "\n",
    "application['NAME_TYPE_SUITE'].unique()"
   ]
  },
  {
   "cell_type": "markdown",
   "metadata": {},
   "source": [
    "Since NAME_TYPE_SUITE is a categorical variable, we will see how we can handle this column. Since this column is all about who was accompanying client when he was applying for the loan, it is useless for our analysis. We will drop this entire column. "
   ]
  },
  {
   "cell_type": "code",
   "execution_count": 16,
   "metadata": {},
   "outputs": [],
   "source": [
    "application = application.drop(['NAME_TYPE_SUITE'], axis=1)"
   ]
  },
  {
   "cell_type": "code",
   "execution_count": 17,
   "metadata": {},
   "outputs": [
    {
     "data": {
      "text/plain": [
       "TARGET                        0\n",
       "NAME_CONTRACT_TYPE            0\n",
       "CODE_GENDER                   0\n",
       "FLAG_OWN_CAR                  0\n",
       "FLAG_OWN_REALTY               0\n",
       "AMT_INCOME_TOTAL              0\n",
       "AMT_CREDIT                    0\n",
       "AMT_GOODS_PRICE               0\n",
       "NAME_INCOME_TYPE              0\n",
       "NAME_EDUCATION_TYPE           0\n",
       "NAME_FAMILY_STATUS            0\n",
       "NAME_HOUSING_TYPE             0\n",
       "DAYS_BIRTH                    0\n",
       "DAYS_EMPLOYED                 0\n",
       "CNT_FAM_MEMBERS               2\n",
       "REGION_RATING_CLIENT          0\n",
       "WEEKDAY_APPR_PROCESS_START    0\n",
       "REG_REGION_NOT_LIVE_REGION    0\n",
       "REG_REGION_NOT_WORK_REGION    0\n",
       "ORGANIZATION_TYPE             0\n",
       "DAYS_LAST_PHONE_CHANGE        1\n",
       "dtype: int64"
      ]
     },
     "execution_count": 17,
     "metadata": {},
     "output_type": "execute_result"
    }
   ],
   "source": [
    "application.isnull().sum()"
   ]
  },
  {
   "cell_type": "code",
   "execution_count": 18,
   "metadata": {},
   "outputs": [
    {
     "data": {
      "text/plain": [
       "array([-1134.,  -828.,  -815., ..., -3988., -3899., -3538.])"
      ]
     },
     "execution_count": 18,
     "metadata": {},
     "output_type": "execute_result"
    }
   ],
   "source": [
    "application['DAYS_LAST_PHONE_CHANGE'].unique()"
   ]
  },
  {
   "cell_type": "code",
   "execution_count": 19,
   "metadata": {},
   "outputs": [
    {
     "data": {
      "text/plain": [
       "array([1134.,  828.,  815., ..., 3988., 3899., 3538.])"
      ]
     },
     "execution_count": 19,
     "metadata": {},
     "output_type": "execute_result"
    }
   ],
   "source": [
    "#Since this column is containing incorrect values. We need to correct this particular column by removing the negative sign. \n",
    "application['DAYS_LAST_PHONE_CHANGE'] = abs(application['DAYS_LAST_PHONE_CHANGE'])\n",
    "application['DAYS_LAST_PHONE_CHANGE'].unique()"
   ]
  },
  {
   "cell_type": "code",
   "execution_count": 20,
   "metadata": {},
   "outputs": [
    {
     "data": {
      "text/plain": [
       "0         1134.0\n",
       "1          828.0\n",
       "2          815.0\n",
       "3          617.0\n",
       "4         1106.0\n",
       "           ...  \n",
       "307506     273.0\n",
       "307507       0.0\n",
       "307508    1909.0\n",
       "307509     322.0\n",
       "307510     787.0\n",
       "Name: DAYS_LAST_PHONE_CHANGE, Length: 307511, dtype: float64"
      ]
     },
     "execution_count": 20,
     "metadata": {},
     "output_type": "execute_result"
    }
   ],
   "source": [
    "application['DAYS_LAST_PHONE_CHANGE']"
   ]
  },
  {
   "cell_type": "code",
   "execution_count": 21,
   "metadata": {},
   "outputs": [
    {
     "data": {
      "text/html": [
       "<div>\n",
       "<style scoped>\n",
       "    .dataframe tbody tr th:only-of-type {\n",
       "        vertical-align: middle;\n",
       "    }\n",
       "\n",
       "    .dataframe tbody tr th {\n",
       "        vertical-align: top;\n",
       "    }\n",
       "\n",
       "    .dataframe thead th {\n",
       "        text-align: right;\n",
       "    }\n",
       "</style>\n",
       "<table border=\"1\" class=\"dataframe\">\n",
       "  <thead>\n",
       "    <tr style=\"text-align: right;\">\n",
       "      <th></th>\n",
       "      <th>TARGET</th>\n",
       "      <th>NAME_CONTRACT_TYPE</th>\n",
       "      <th>CODE_GENDER</th>\n",
       "      <th>FLAG_OWN_CAR</th>\n",
       "      <th>FLAG_OWN_REALTY</th>\n",
       "      <th>AMT_INCOME_TOTAL</th>\n",
       "      <th>AMT_CREDIT</th>\n",
       "      <th>AMT_GOODS_PRICE</th>\n",
       "      <th>NAME_INCOME_TYPE</th>\n",
       "      <th>NAME_EDUCATION_TYPE</th>\n",
       "      <th>...</th>\n",
       "      <th>NAME_HOUSING_TYPE</th>\n",
       "      <th>DAYS_BIRTH</th>\n",
       "      <th>DAYS_EMPLOYED</th>\n",
       "      <th>CNT_FAM_MEMBERS</th>\n",
       "      <th>REGION_RATING_CLIENT</th>\n",
       "      <th>WEEKDAY_APPR_PROCESS_START</th>\n",
       "      <th>REG_REGION_NOT_LIVE_REGION</th>\n",
       "      <th>REG_REGION_NOT_WORK_REGION</th>\n",
       "      <th>ORGANIZATION_TYPE</th>\n",
       "      <th>DAYS_LAST_PHONE_CHANGE</th>\n",
       "    </tr>\n",
       "  </thead>\n",
       "  <tbody>\n",
       "    <tr>\n",
       "      <th>15709</th>\n",
       "      <td>0</td>\n",
       "      <td>Cash loans</td>\n",
       "      <td>M</td>\n",
       "      <td>Y</td>\n",
       "      <td>Y</td>\n",
       "      <td>126000.0</td>\n",
       "      <td>278613.0</td>\n",
       "      <td>252000.0</td>\n",
       "      <td>Working</td>\n",
       "      <td>Incomplete higher</td>\n",
       "      <td>...</td>\n",
       "      <td>House / apartment</td>\n",
       "      <td>-8574</td>\n",
       "      <td>-293</td>\n",
       "      <td>2.0</td>\n",
       "      <td>2</td>\n",
       "      <td>FRIDAY</td>\n",
       "      <td>0</td>\n",
       "      <td>0</td>\n",
       "      <td>Trade: type 3</td>\n",
       "      <td>NaN</td>\n",
       "    </tr>\n",
       "  </tbody>\n",
       "</table>\n",
       "<p>1 rows × 21 columns</p>\n",
       "</div>"
      ],
      "text/plain": [
       "       TARGET NAME_CONTRACT_TYPE CODE_GENDER FLAG_OWN_CAR FLAG_OWN_REALTY  \\\n",
       "15709       0         Cash loans           M            Y               Y   \n",
       "\n",
       "       AMT_INCOME_TOTAL  AMT_CREDIT  AMT_GOODS_PRICE NAME_INCOME_TYPE  \\\n",
       "15709          126000.0    278613.0         252000.0          Working   \n",
       "\n",
       "      NAME_EDUCATION_TYPE  ...  NAME_HOUSING_TYPE DAYS_BIRTH  DAYS_EMPLOYED  \\\n",
       "15709   Incomplete higher  ...  House / apartment      -8574           -293   \n",
       "\n",
       "       CNT_FAM_MEMBERS  REGION_RATING_CLIENT  WEEKDAY_APPR_PROCESS_START  \\\n",
       "15709              2.0                     2                      FRIDAY   \n",
       "\n",
       "      REG_REGION_NOT_LIVE_REGION  REG_REGION_NOT_WORK_REGION  \\\n",
       "15709                          0                           0   \n",
       "\n",
       "       ORGANIZATION_TYPE DAYS_LAST_PHONE_CHANGE  \n",
       "15709      Trade: type 3                    NaN  \n",
       "\n",
       "[1 rows x 21 columns]"
      ]
     },
     "execution_count": 21,
     "metadata": {},
     "output_type": "execute_result"
    }
   ],
   "source": [
    "#Since we have 1 missing data, we will delete that particular row where we have a missin value\n",
    "\n",
    "application[application['DAYS_LAST_PHONE_CHANGE'].isnull()]"
   ]
  },
  {
   "cell_type": "code",
   "execution_count": 22,
   "metadata": {},
   "outputs": [],
   "source": [
    "application = application[~(application['DAYS_LAST_PHONE_CHANGE'].isnull() & (application.ORGANIZATION_TYPE == 'Trade: type 3'))]"
   ]
  },
  {
   "cell_type": "code",
   "execution_count": 23,
   "metadata": {},
   "outputs": [
    {
     "data": {
      "text/html": [
       "<div>\n",
       "<style scoped>\n",
       "    .dataframe tbody tr th:only-of-type {\n",
       "        vertical-align: middle;\n",
       "    }\n",
       "\n",
       "    .dataframe tbody tr th {\n",
       "        vertical-align: top;\n",
       "    }\n",
       "\n",
       "    .dataframe thead th {\n",
       "        text-align: right;\n",
       "    }\n",
       "</style>\n",
       "<table border=\"1\" class=\"dataframe\">\n",
       "  <thead>\n",
       "    <tr style=\"text-align: right;\">\n",
       "      <th></th>\n",
       "      <th>TARGET</th>\n",
       "      <th>NAME_CONTRACT_TYPE</th>\n",
       "      <th>CODE_GENDER</th>\n",
       "      <th>FLAG_OWN_CAR</th>\n",
       "      <th>FLAG_OWN_REALTY</th>\n",
       "      <th>AMT_INCOME_TOTAL</th>\n",
       "      <th>AMT_CREDIT</th>\n",
       "      <th>AMT_GOODS_PRICE</th>\n",
       "      <th>NAME_INCOME_TYPE</th>\n",
       "      <th>NAME_EDUCATION_TYPE</th>\n",
       "      <th>...</th>\n",
       "      <th>NAME_HOUSING_TYPE</th>\n",
       "      <th>DAYS_BIRTH</th>\n",
       "      <th>DAYS_EMPLOYED</th>\n",
       "      <th>CNT_FAM_MEMBERS</th>\n",
       "      <th>REGION_RATING_CLIENT</th>\n",
       "      <th>WEEKDAY_APPR_PROCESS_START</th>\n",
       "      <th>REG_REGION_NOT_LIVE_REGION</th>\n",
       "      <th>REG_REGION_NOT_WORK_REGION</th>\n",
       "      <th>ORGANIZATION_TYPE</th>\n",
       "      <th>DAYS_LAST_PHONE_CHANGE</th>\n",
       "    </tr>\n",
       "  </thead>\n",
       "  <tbody>\n",
       "    <tr>\n",
       "      <th>41982</th>\n",
       "      <td>0</td>\n",
       "      <td>Revolving loans</td>\n",
       "      <td>M</td>\n",
       "      <td>N</td>\n",
       "      <td>Y</td>\n",
       "      <td>450000.0</td>\n",
       "      <td>675000.0</td>\n",
       "      <td>450000.0</td>\n",
       "      <td>Commercial associate</td>\n",
       "      <td>Lower secondary</td>\n",
       "      <td>...</td>\n",
       "      <td>Municipal apartment</td>\n",
       "      <td>-12396</td>\n",
       "      <td>-1161</td>\n",
       "      <td>NaN</td>\n",
       "      <td>2</td>\n",
       "      <td>THURSDAY</td>\n",
       "      <td>0</td>\n",
       "      <td>1</td>\n",
       "      <td>Insurance</td>\n",
       "      <td>876.0</td>\n",
       "    </tr>\n",
       "    <tr>\n",
       "      <th>187348</th>\n",
       "      <td>0</td>\n",
       "      <td>Revolving loans</td>\n",
       "      <td>F</td>\n",
       "      <td>N</td>\n",
       "      <td>Y</td>\n",
       "      <td>202500.0</td>\n",
       "      <td>585000.0</td>\n",
       "      <td>450000.0</td>\n",
       "      <td>Commercial associate</td>\n",
       "      <td>Higher education</td>\n",
       "      <td>...</td>\n",
       "      <td>House / apartment</td>\n",
       "      <td>-12844</td>\n",
       "      <td>-232</td>\n",
       "      <td>NaN</td>\n",
       "      <td>2</td>\n",
       "      <td>FRIDAY</td>\n",
       "      <td>0</td>\n",
       "      <td>0</td>\n",
       "      <td>Business Entity Type 2</td>\n",
       "      <td>654.0</td>\n",
       "    </tr>\n",
       "  </tbody>\n",
       "</table>\n",
       "<p>2 rows × 21 columns</p>\n",
       "</div>"
      ],
      "text/plain": [
       "        TARGET NAME_CONTRACT_TYPE CODE_GENDER FLAG_OWN_CAR FLAG_OWN_REALTY  \\\n",
       "41982        0    Revolving loans           M            N               Y   \n",
       "187348       0    Revolving loans           F            N               Y   \n",
       "\n",
       "        AMT_INCOME_TOTAL  AMT_CREDIT  AMT_GOODS_PRICE      NAME_INCOME_TYPE  \\\n",
       "41982           450000.0    675000.0         450000.0  Commercial associate   \n",
       "187348          202500.0    585000.0         450000.0  Commercial associate   \n",
       "\n",
       "       NAME_EDUCATION_TYPE  ...    NAME_HOUSING_TYPE DAYS_BIRTH  \\\n",
       "41982      Lower secondary  ...  Municipal apartment     -12396   \n",
       "187348    Higher education  ...    House / apartment     -12844   \n",
       "\n",
       "        DAYS_EMPLOYED  CNT_FAM_MEMBERS  REGION_RATING_CLIENT  \\\n",
       "41982           -1161              NaN                     2   \n",
       "187348           -232              NaN                     2   \n",
       "\n",
       "        WEEKDAY_APPR_PROCESS_START REG_REGION_NOT_LIVE_REGION  \\\n",
       "41982                     THURSDAY                          0   \n",
       "187348                      FRIDAY                          0   \n",
       "\n",
       "        REG_REGION_NOT_WORK_REGION       ORGANIZATION_TYPE  \\\n",
       "41982                            1               Insurance   \n",
       "187348                           0  Business Entity Type 2   \n",
       "\n",
       "       DAYS_LAST_PHONE_CHANGE  \n",
       "41982                   876.0  \n",
       "187348                  654.0  \n",
       "\n",
       "[2 rows x 21 columns]"
      ]
     },
     "execution_count": 23,
     "metadata": {},
     "output_type": "execute_result"
    }
   ],
   "source": [
    "#Since we have 2 missing data in CNT_FAM_MEMBERS. We will drop these 2 particular rows as well. \n",
    "application[application['CNT_FAM_MEMBERS'].isnull()]"
   ]
  },
  {
   "cell_type": "code",
   "execution_count": 24,
   "metadata": {},
   "outputs": [],
   "source": [
    "application = application[~(application['CNT_FAM_MEMBERS'].isnull() & (application.ORGANIZATION_TYPE == 'Insurance'))]\n",
    "application = application[~(application['CNT_FAM_MEMBERS'].isnull() & (application.ORGANIZATION_TYPE == 'Business Entity Type 2'))]"
   ]
  },
  {
   "cell_type": "code",
   "execution_count": 25,
   "metadata": {},
   "outputs": [
    {
     "data": {
      "text/plain": [
       "TARGET                        0\n",
       "NAME_CONTRACT_TYPE            0\n",
       "CODE_GENDER                   0\n",
       "FLAG_OWN_CAR                  0\n",
       "FLAG_OWN_REALTY               0\n",
       "AMT_INCOME_TOTAL              0\n",
       "AMT_CREDIT                    0\n",
       "AMT_GOODS_PRICE               0\n",
       "NAME_INCOME_TYPE              0\n",
       "NAME_EDUCATION_TYPE           0\n",
       "NAME_FAMILY_STATUS            0\n",
       "NAME_HOUSING_TYPE             0\n",
       "DAYS_BIRTH                    0\n",
       "DAYS_EMPLOYED                 0\n",
       "CNT_FAM_MEMBERS               0\n",
       "REGION_RATING_CLIENT          0\n",
       "WEEKDAY_APPR_PROCESS_START    0\n",
       "REG_REGION_NOT_LIVE_REGION    0\n",
       "REG_REGION_NOT_WORK_REGION    0\n",
       "ORGANIZATION_TYPE             0\n",
       "DAYS_LAST_PHONE_CHANGE        0\n",
       "dtype: int64"
      ]
     },
     "execution_count": 25,
     "metadata": {},
     "output_type": "execute_result"
    }
   ],
   "source": [
    "application.isnull().sum()"
   ]
  },
  {
   "cell_type": "code",
   "execution_count": 26,
   "metadata": {},
   "outputs": [
    {
     "data": {
      "text/plain": [
       "0    -9461\n",
       "1   -16765\n",
       "2   -19046\n",
       "3   -19005\n",
       "4   -19932\n",
       "Name: DAYS_BIRTH, dtype: int64"
      ]
     },
     "execution_count": 26,
     "metadata": {},
     "output_type": "execute_result"
    }
   ],
   "source": [
    "#Fixing incorrect values in the dataset\n",
    "\n",
    "application['DAYS_BIRTH'].head()"
   ]
  },
  {
   "cell_type": "code",
   "execution_count": 27,
   "metadata": {},
   "outputs": [
    {
     "data": {
      "text/plain": [
       "0     9461\n",
       "1    16765\n",
       "2    19046\n",
       "3    19005\n",
       "4    19932\n",
       "Name: DAYS_BIRTH, dtype: int64"
      ]
     },
     "execution_count": 27,
     "metadata": {},
     "output_type": "execute_result"
    }
   ],
   "source": [
    "application['DAYS_BIRTH'] = abs(application['DAYS_BIRTH'])\n",
    "application['DAYS_BIRTH'].head()"
   ]
  },
  {
   "cell_type": "code",
   "execution_count": 28,
   "metadata": {},
   "outputs": [],
   "source": [
    "application['DAYS_EMPLOYED']\n",
    "application['DAYS_EMPLOYED'] = abs(application['DAYS_EMPLOYED'])"
   ]
  },
  {
   "cell_type": "markdown",
   "metadata": {},
   "source": [
    "We have removed all the missing values from the dataset and fixed incorrect values. Now we will handle outliers in the dataset"
   ]
  },
  {
   "cell_type": "code",
   "execution_count": 29,
   "metadata": {},
   "outputs": [
    {
     "name": "stdout",
     "output_type": "stream",
     "text": [
      "<class 'pandas.core.frame.DataFrame'>\n",
      "Int64Index: 307508 entries, 0 to 307510\n",
      "Data columns (total 21 columns):\n",
      " #   Column                      Non-Null Count   Dtype  \n",
      "---  ------                      --------------   -----  \n",
      " 0   TARGET                      307508 non-null  int64  \n",
      " 1   NAME_CONTRACT_TYPE          307508 non-null  object \n",
      " 2   CODE_GENDER                 307508 non-null  object \n",
      " 3   FLAG_OWN_CAR                307508 non-null  object \n",
      " 4   FLAG_OWN_REALTY             307508 non-null  object \n",
      " 5   AMT_INCOME_TOTAL            307508 non-null  float64\n",
      " 6   AMT_CREDIT                  307508 non-null  float64\n",
      " 7   AMT_GOODS_PRICE             307508 non-null  float64\n",
      " 8   NAME_INCOME_TYPE            307508 non-null  object \n",
      " 9   NAME_EDUCATION_TYPE         307508 non-null  object \n",
      " 10  NAME_FAMILY_STATUS          307508 non-null  object \n",
      " 11  NAME_HOUSING_TYPE           307508 non-null  object \n",
      " 12  DAYS_BIRTH                  307508 non-null  int64  \n",
      " 13  DAYS_EMPLOYED               307508 non-null  int64  \n",
      " 14  CNT_FAM_MEMBERS             307508 non-null  float64\n",
      " 15  REGION_RATING_CLIENT        307508 non-null  int64  \n",
      " 16  WEEKDAY_APPR_PROCESS_START  307508 non-null  object \n",
      " 17  REG_REGION_NOT_LIVE_REGION  307508 non-null  int64  \n",
      " 18  REG_REGION_NOT_WORK_REGION  307508 non-null  int64  \n",
      " 19  ORGANIZATION_TYPE           307508 non-null  object \n",
      " 20  DAYS_LAST_PHONE_CHANGE      307508 non-null  float64\n",
      "dtypes: float64(5), int64(6), object(10)\n",
      "memory usage: 51.6+ MB\n"
     ]
    }
   ],
   "source": [
    "application.info()"
   ]
  },
  {
   "cell_type": "code",
   "execution_count": 30,
   "metadata": {},
   "outputs": [
    {
     "data": {
      "text/plain": [
       "count    3.075080e+05\n",
       "mean     1.687970e+05\n",
       "std      2.371237e+05\n",
       "min      2.565000e+04\n",
       "25%      1.125000e+05\n",
       "50%      1.471500e+05\n",
       "75%      2.025000e+05\n",
       "max      1.170000e+08\n",
       "Name: AMT_INCOME_TOTAL, dtype: float64"
      ]
     },
     "execution_count": 30,
     "metadata": {},
     "output_type": "execute_result"
    }
   ],
   "source": [
    "application['AMT_INCOME_TOTAL'].describe()"
   ]
  },
  {
   "cell_type": "code",
   "execution_count": 31,
   "metadata": {},
   "outputs": [
    {
     "data": {
      "image/png": "[encoded data removed]",
      "text/plain": [
       "<Figure size 648x504 with 1 Axes>"
      ]
     },
     "metadata": {
      "needs_background": "light"
     },
     "output_type": "display_data"
    }
   ],
   "source": [
    "plt.figure(figsize=[9,7])\n",
    "sns.boxplot(application['AMT_INCOME_TOTAL'])\n",
    "plt.show()"
   ]
  },
  {
   "cell_type": "code",
   "execution_count": 32,
   "metadata": {},
   "outputs": [
    {
     "data": {
      "text/plain": [
       "112500.0"
      ]
     },
     "execution_count": 32,
     "metadata": {},
     "output_type": "execute_result"
    }
   ],
   "source": [
    "Q1 = application['AMT_INCOME_TOTAL'].quantile(0.25)\n",
    "Q1"
   ]
  },
  {
   "cell_type": "code",
   "execution_count": 33,
   "metadata": {},
   "outputs": [
    {
     "data": {
      "text/plain": [
       "202500.0"
      ]
     },
     "execution_count": 33,
     "metadata": {},
     "output_type": "execute_result"
    }
   ],
   "source": [
    "Q3 = application['AMT_INCOME_TOTAL'].quantile(0.75)\n",
    "Q3"
   ]
  },
  {
   "cell_type": "code",
   "execution_count": 34,
   "metadata": {},
   "outputs": [
    {
     "data": {
      "text/plain": [
       "90000.0"
      ]
     },
     "execution_count": 34,
     "metadata": {},
     "output_type": "execute_result"
    }
   ],
   "source": [
    "IQR = Q3-Q1\n",
    "IQR    "
   ]
  },
  {
   "cell_type": "code",
   "execution_count": 35,
   "metadata": {},
   "outputs": [
    {
     "data": {
      "text/plain": [
       "337500.0"
      ]
     },
     "execution_count": 35,
     "metadata": {},
     "output_type": "execute_result"
    }
   ],
   "source": [
    "upper_fence = Q3+1.5*IQR\n",
    "upper_fence"
   ]
  },
  {
   "cell_type": "code",
   "execution_count": 36,
   "metadata": {},
   "outputs": [
    {
     "data": {
      "text/plain": [
       "67500.0"
      ]
     },
     "execution_count": 36,
     "metadata": {},
     "output_type": "execute_result"
    }
   ],
   "source": [
    "lower_fence = Q3-1.5*IQR\n",
    "lower_fence"
   ]
  },
  {
   "cell_type": "code",
   "execution_count": 37,
   "metadata": {},
   "outputs": [
    {
     "data": {
      "image/png": "[encoded data removed]",
      "text/plain": [
       "<Figure size 432x288 with 1 Axes>"
      ]
     },
     "metadata": {
      "needs_background": "light"
     },
     "output_type": "display_data"
    }
   ],
   "source": [
    "application = application[~(application['AMT_INCOME_TOTAL']>upper_fence)]\n",
    "sns.boxplot(application['AMT_INCOME_TOTAL'])\n",
    "plt.show()"
   ]
  },
  {
   "cell_type": "code",
   "execution_count": 38,
   "metadata": {},
   "outputs": [
    {
     "name": "stdout",
     "output_type": "stream",
     "text": [
      "<class 'pandas.core.frame.DataFrame'>\n",
      "Int64Index: 293474 entries, 0 to 307510\n",
      "Data columns (total 21 columns):\n",
      " #   Column                      Non-Null Count   Dtype  \n",
      "---  ------                      --------------   -----  \n",
      " 0   TARGET                      293474 non-null  int64  \n",
      " 1   NAME_CONTRACT_TYPE          293474 non-null  object \n",
      " 2   CODE_GENDER                 293474 non-null  object \n",
      " 3   FLAG_OWN_CAR                293474 non-null  object \n",
      " 4   FLAG_OWN_REALTY             293474 non-null  object \n",
      " 5   AMT_INCOME_TOTAL            293474 non-null  float64\n",
      " 6   AMT_CREDIT                  293474 non-null  float64\n",
      " 7   AMT_GOODS_PRICE             293474 non-null  float64\n",
      " 8   NAME_INCOME_TYPE            293474 non-null  object \n",
      " 9   NAME_EDUCATION_TYPE         293474 non-null  object \n",
      " 10  NAME_FAMILY_STATUS          293474 non-null  object \n",
      " 11  NAME_HOUSING_TYPE           293474 non-null  object \n",
      " 12  DAYS_BIRTH                  293474 non-null  int64  \n",
      " 13  DAYS_EMPLOYED               293474 non-null  int64  \n",
      " 14  CNT_FAM_MEMBERS             293474 non-null  float64\n",
      " 15  REGION_RATING_CLIENT        293474 non-null  int64  \n",
      " 16  WEEKDAY_APPR_PROCESS_START  293474 non-null  object \n",
      " 17  REG_REGION_NOT_LIVE_REGION  293474 non-null  int64  \n",
      " 18  REG_REGION_NOT_WORK_REGION  293474 non-null  int64  \n",
      " 19  ORGANIZATION_TYPE           293474 non-null  object \n",
      " 20  DAYS_LAST_PHONE_CHANGE      293474 non-null  float64\n",
      "dtypes: float64(5), int64(6), object(10)\n",
      "memory usage: 49.3+ MB\n"
     ]
    }
   ],
   "source": [
    "application.info()"
   ]
  },
  {
   "cell_type": "code",
   "execution_count": 39,
   "metadata": {},
   "outputs": [
    {
     "name": "stdout",
     "output_type": "stream",
     "text": [
      "<class 'pandas.core.frame.DataFrame'>\n",
      "Int64Index: 293474 entries, 0 to 307510\n",
      "Data columns (total 21 columns):\n",
      " #   Column                      Non-Null Count   Dtype  \n",
      "---  ------                      --------------   -----  \n",
      " 0   TARGET                      293474 non-null  int64  \n",
      " 1   NAME_CONTRACT_TYPE          293474 non-null  object \n",
      " 2   CODE_GENDER                 293474 non-null  object \n",
      " 3   FLAG_OWN_CAR                293474 non-null  object \n",
      " 4   FLAG_OWN_REALTY             293474 non-null  object \n",
      " 5   AMT_INCOME_TOTAL            293474 non-null  float64\n",
      " 6   AMT_CREDIT                  293474 non-null  float64\n",
      " 7   AMT_GOODS_PRICE             293474 non-null  float64\n",
      " 8   NAME_INCOME_TYPE            293474 non-null  object \n",
      " 9   NAME_EDUCATION_TYPE         293474 non-null  object \n",
      " 10  NAME_FAMILY_STATUS          293474 non-null  object \n",
      " 11  NAME_HOUSING_TYPE           293474 non-null  object \n",
      " 12  DAYS_BIRTH                  293474 non-null  int64  \n",
      " 13  DAYS_EMPLOYED               293474 non-null  int64  \n",
      " 14  CNT_FAM_MEMBERS             293474 non-null  float64\n",
      " 15  REGION_RATING_CLIENT        293474 non-null  int64  \n",
      " 16  WEEKDAY_APPR_PROCESS_START  293474 non-null  object \n",
      " 17  REG_REGION_NOT_LIVE_REGION  293474 non-null  int64  \n",
      " 18  REG_REGION_NOT_WORK_REGION  293474 non-null  int64  \n",
      " 19  ORGANIZATION_TYPE           293474 non-null  object \n",
      " 20  DAYS_LAST_PHONE_CHANGE      293474 non-null  float64\n",
      "dtypes: float64(5), int64(6), object(10)\n",
      "memory usage: 49.3+ MB\n"
     ]
    }
   ],
   "source": [
    "application.info()"
   ]
  },
  {
   "cell_type": "markdown",
   "metadata": {},
   "source": [
    "I have removed all possible outliers from the AMT_INCOME_TOTAL"
   ]
  },
  {
   "cell_type": "code",
   "execution_count": 40,
   "metadata": {},
   "outputs": [
    {
     "data": {
      "text/plain": [
       "count    2.934740e+05\n",
       "mean     5.797519e+05\n",
       "std      3.844939e+05\n",
       "min      4.500000e+04\n",
       "25%      2.700000e+05\n",
       "50%      4.995000e+05\n",
       "75%      7.908300e+05\n",
       "max      3.860019e+06\n",
       "Name: AMT_CREDIT, dtype: float64"
      ]
     },
     "execution_count": 40,
     "metadata": {},
     "output_type": "execute_result"
    }
   ],
   "source": [
    "#Now handling outlier from AMT-CREDIT\n",
    "\n",
    "application['AMT_CREDIT'].describe()"
   ]
  },
  {
   "cell_type": "code",
   "execution_count": 41,
   "metadata": {},
   "outputs": [],
   "source": [
    "Q1 = application['AMT_CREDIT'].quantile(0.25)\n",
    "Q3 = application['AMT_CREDIT'].quantile(0.75)\n",
    "IQR = Q3-Q1"
   ]
  },
  {
   "cell_type": "code",
   "execution_count": 42,
   "metadata": {},
   "outputs": [
    {
     "data": {
      "image/png": "[encoded data removed]",
      "text/plain": [
       "<Figure size 432x288 with 1 Axes>"
      ]
     },
     "metadata": {
      "needs_background": "light"
     },
     "output_type": "display_data"
    }
   ],
   "source": [
    "sns.boxplot(application['AMT_CREDIT'])\n",
    "plt.show()"
   ]
  },
  {
   "cell_type": "code",
   "execution_count": 43,
   "metadata": {},
   "outputs": [],
   "source": [
    "upper_fence = Q3+1.5*IQR\n",
    "lower_fence = Q1-1.5*IQR"
   ]
  },
  {
   "cell_type": "code",
   "execution_count": 44,
   "metadata": {},
   "outputs": [
    {
     "name": "stdout",
     "output_type": "stream",
     "text": [
      "<class 'pandas.core.frame.DataFrame'>\n",
      "Int64Index: 287722 entries, 0 to 307510\n",
      "Data columns (total 21 columns):\n",
      " #   Column                      Non-Null Count   Dtype  \n",
      "---  ------                      --------------   -----  \n",
      " 0   TARGET                      287722 non-null  int64  \n",
      " 1   NAME_CONTRACT_TYPE          287722 non-null  object \n",
      " 2   CODE_GENDER                 287722 non-null  object \n",
      " 3   FLAG_OWN_CAR                287722 non-null  object \n",
      " 4   FLAG_OWN_REALTY             287722 non-null  object \n",
      " 5   AMT_INCOME_TOTAL            287722 non-null  float64\n",
      " 6   AMT_CREDIT                  287722 non-null  float64\n",
      " 7   AMT_GOODS_PRICE             287722 non-null  float64\n",
      " 8   NAME_INCOME_TYPE            287722 non-null  object \n",
      " 9   NAME_EDUCATION_TYPE         287722 non-null  object \n",
      " 10  NAME_FAMILY_STATUS          287722 non-null  object \n",
      " 11  NAME_HOUSING_TYPE           287722 non-null  object \n",
      " 12  DAYS_BIRTH                  287722 non-null  int64  \n",
      " 13  DAYS_EMPLOYED               287722 non-null  int64  \n",
      " 14  CNT_FAM_MEMBERS             287722 non-null  float64\n",
      " 15  REGION_RATING_CLIENT        287722 non-null  int64  \n",
      " 16  WEEKDAY_APPR_PROCESS_START  287722 non-null  object \n",
      " 17  REG_REGION_NOT_LIVE_REGION  287722 non-null  int64  \n",
      " 18  REG_REGION_NOT_WORK_REGION  287722 non-null  int64  \n",
      " 19  ORGANIZATION_TYPE           287722 non-null  object \n",
      " 20  DAYS_LAST_PHONE_CHANGE      287722 non-null  float64\n",
      "dtypes: float64(5), int64(6), object(10)\n",
      "memory usage: 48.3+ MB\n"
     ]
    }
   ],
   "source": [
    "application = application[~(application['AMT_CREDIT']>upper_fence)]\n",
    "application.info()"
   ]
  },
  {
   "cell_type": "code",
   "execution_count": 45,
   "metadata": {},
   "outputs": [
    {
     "data": {
      "image/png": "[encoded data removed]",
      "text/plain": [
       "<Figure size 432x288 with 1 Axes>"
      ]
     },
     "metadata": {
      "needs_background": "light"
     },
     "output_type": "display_data"
    }
   ],
   "source": [
    "sns.boxplot(application['AMT_CREDIT'])\n",
    "plt.show()"
   ]
  },
  {
   "cell_type": "markdown",
   "metadata": {},
   "source": [
    "I have removed all possible outliers from AMT_CREDIT"
   ]
  },
  {
   "cell_type": "code",
   "execution_count": 46,
   "metadata": {},
   "outputs": [
    {
     "data": {
      "image/png": "[encoded data removed]",
      "text/plain": [
       "<Figure size 432x288 with 1 Axes>"
      ]
     },
     "metadata": {
      "needs_background": "light"
     },
     "output_type": "display_data"
    }
   ],
   "source": [
    "sns.boxplot(application['AMT_GOODS_PRICE'])\n",
    "plt.show()"
   ]
  },
  {
   "cell_type": "code",
   "execution_count": 47,
   "metadata": {},
   "outputs": [],
   "source": [
    "Q1 = application['AMT_GOODS_PRICE'].quantile(0.25)\n",
    "Q3 = application['AMT_GOODS_PRICE'].quantile(0.75)\n",
    "IQR = Q3-Q1\n",
    "upper_fence = Q3+1.5*IQR\n",
    "lower_fence = Q1-1.5*IQR"
   ]
  },
  {
   "cell_type": "code",
   "execution_count": 48,
   "metadata": {},
   "outputs": [],
   "source": [
    "application = application[~(application['AMT_GOODS_PRICE']>upper_fence)]\n",
    "application = application[~(application['AMT_GOODS_PRICE']<lower_fence)]"
   ]
  },
  {
   "cell_type": "code",
   "execution_count": 49,
   "metadata": {},
   "outputs": [
    {
     "data": {
      "image/png": "[encoded data removed]",
      "text/plain": [
       "<Figure size 432x288 with 1 Axes>"
      ]
     },
     "metadata": {
      "needs_background": "light"
     },
     "output_type": "display_data"
    }
   ],
   "source": [
    "sns.boxplot(application['AMT_GOODS_PRICE'])\n",
    "plt.show()"
   ]
  },
  {
   "cell_type": "markdown",
   "metadata": {},
   "source": [
    "I have removed all possible outliers from AMT_GOODS_PRICE. I have handled missing values, fixed invalid data i.e., numbe of days was in negative so I have successfully converted that into positive by abs() function. "
   ]
  },
  {
   "cell_type": "code",
   "execution_count": 50,
   "metadata": {},
   "outputs": [
    {
     "name": "stdout",
     "output_type": "stream",
     "text": [
      "<class 'pandas.core.frame.DataFrame'>\n",
      "Int64Index: 281743 entries, 0 to 307510\n",
      "Data columns (total 21 columns):\n",
      " #   Column                      Non-Null Count   Dtype  \n",
      "---  ------                      --------------   -----  \n",
      " 0   TARGET                      281743 non-null  int64  \n",
      " 1   NAME_CONTRACT_TYPE          281743 non-null  object \n",
      " 2   CODE_GENDER                 281743 non-null  object \n",
      " 3   FLAG_OWN_CAR                281743 non-null  object \n",
      " 4   FLAG_OWN_REALTY             281743 non-null  object \n",
      " 5   AMT_INCOME_TOTAL            281743 non-null  float64\n",
      " 6   AMT_CREDIT                  281743 non-null  float64\n",
      " 7   AMT_GOODS_PRICE             281743 non-null  float64\n",
      " 8   NAME_INCOME_TYPE            281743 non-null  object \n",
      " 9   NAME_EDUCATION_TYPE         281743 non-null  object \n",
      " 10  NAME_FAMILY_STATUS          281743 non-null  object \n",
      " 11  NAME_HOUSING_TYPE           281743 non-null  object \n",
      " 12  DAYS_BIRTH                  281743 non-null  int64  \n",
      " 13  DAYS_EMPLOYED               281743 non-null  int64  \n",
      " 14  CNT_FAM_MEMBERS             281743 non-null  float64\n",
      " 15  REGION_RATING_CLIENT        281743 non-null  int64  \n",
      " 16  WEEKDAY_APPR_PROCESS_START  281743 non-null  object \n",
      " 17  REG_REGION_NOT_LIVE_REGION  281743 non-null  int64  \n",
      " 18  REG_REGION_NOT_WORK_REGION  281743 non-null  int64  \n",
      " 19  ORGANIZATION_TYPE           281743 non-null  object \n",
      " 20  DAYS_LAST_PHONE_CHANGE      281743 non-null  float64\n",
      "dtypes: float64(5), int64(6), object(10)\n",
      "memory usage: 47.3+ MB\n"
     ]
    }
   ],
   "source": [
    "application.info()"
   ]
  },
  {
   "cell_type": "code",
   "execution_count": 51,
   "metadata": {},
   "outputs": [
    {
     "data": {
      "text/html": [
       "<div>\n",
       "<style scoped>\n",
       "    .dataframe tbody tr th:only-of-type {\n",
       "        vertical-align: middle;\n",
       "    }\n",
       "\n",
       "    .dataframe tbody tr th {\n",
       "        vertical-align: top;\n",
       "    }\n",
       "\n",
       "    .dataframe thead th {\n",
       "        text-align: right;\n",
       "    }\n",
       "</style>\n",
       "<table border=\"1\" class=\"dataframe\">\n",
       "  <thead>\n",
       "    <tr style=\"text-align: right;\">\n",
       "      <th></th>\n",
       "      <th>TARGET</th>\n",
       "      <th>AMT_INCOME_TOTAL</th>\n",
       "      <th>AMT_CREDIT</th>\n",
       "      <th>AMT_GOODS_PRICE</th>\n",
       "      <th>DAYS_BIRTH</th>\n",
       "      <th>DAYS_EMPLOYED</th>\n",
       "      <th>CNT_FAM_MEMBERS</th>\n",
       "      <th>REGION_RATING_CLIENT</th>\n",
       "      <th>REG_REGION_NOT_LIVE_REGION</th>\n",
       "      <th>REG_REGION_NOT_WORK_REGION</th>\n",
       "      <th>DAYS_LAST_PHONE_CHANGE</th>\n",
       "    </tr>\n",
       "  </thead>\n",
       "  <tbody>\n",
       "    <tr>\n",
       "      <th>count</th>\n",
       "      <td>281743.000000</td>\n",
       "      <td>281743.000000</td>\n",
       "      <td>2.817430e+05</td>\n",
       "      <td>2.817430e+05</td>\n",
       "      <td>281743.000000</td>\n",
       "      <td>281743.000000</td>\n",
       "      <td>281743.000000</td>\n",
       "      <td>281743.000000</td>\n",
       "      <td>281743.000000</td>\n",
       "      <td>281743.000000</td>\n",
       "      <td>281743.000000</td>\n",
       "    </tr>\n",
       "    <tr>\n",
       "      <th>mean</th>\n",
       "      <td>0.083431</td>\n",
       "      <td>151770.923103</td>\n",
       "      <td>5.355950e+05</td>\n",
       "      <td>4.780778e+05</td>\n",
       "      <td>16026.079090</td>\n",
       "      <td>69816.943871</td>\n",
       "      <td>2.143265</td>\n",
       "      <td>2.073436</td>\n",
       "      <td>0.013573</td>\n",
       "      <td>0.045428</td>\n",
       "      <td>954.150719</td>\n",
       "    </tr>\n",
       "    <tr>\n",
       "      <th>std</th>\n",
       "      <td>0.276533</td>\n",
       "      <td>62856.350810</td>\n",
       "      <td>3.197472e+05</td>\n",
       "      <td>2.864748e+05</td>\n",
       "      <td>4415.482085</td>\n",
       "      <td>141193.135839</td>\n",
       "      <td>0.912922</td>\n",
       "      <td>0.494515</td>\n",
       "      <td>0.115709</td>\n",
       "      <td>0.208241</td>\n",
       "      <td>821.779243</td>\n",
       "    </tr>\n",
       "    <tr>\n",
       "      <th>min</th>\n",
       "      <td>0.000000</td>\n",
       "      <td>25650.000000</td>\n",
       "      <td>4.500000e+04</td>\n",
       "      <td>4.050000e+04</td>\n",
       "      <td>7489.000000</td>\n",
       "      <td>0.000000</td>\n",
       "      <td>1.000000</td>\n",
       "      <td>1.000000</td>\n",
       "      <td>0.000000</td>\n",
       "      <td>0.000000</td>\n",
       "      <td>0.000000</td>\n",
       "    </tr>\n",
       "    <tr>\n",
       "      <th>25%</th>\n",
       "      <td>0.000000</td>\n",
       "      <td>112500.000000</td>\n",
       "      <td>2.699820e+05</td>\n",
       "      <td>2.250000e+05</td>\n",
       "      <td>12325.000000</td>\n",
       "      <td>922.000000</td>\n",
       "      <td>2.000000</td>\n",
       "      <td>2.000000</td>\n",
       "      <td>0.000000</td>\n",
       "      <td>0.000000</td>\n",
       "      <td>270.000000</td>\n",
       "    </tr>\n",
       "    <tr>\n",
       "      <th>50%</th>\n",
       "      <td>0.000000</td>\n",
       "      <td>135000.000000</td>\n",
       "      <td>4.815000e+05</td>\n",
       "      <td>4.500000e+05</td>\n",
       "      <td>15723.000000</td>\n",
       "      <td>2199.000000</td>\n",
       "      <td>2.000000</td>\n",
       "      <td>2.000000</td>\n",
       "      <td>0.000000</td>\n",
       "      <td>0.000000</td>\n",
       "      <td>748.000000</td>\n",
       "    </tr>\n",
       "    <tr>\n",
       "      <th>75%</th>\n",
       "      <td>0.000000</td>\n",
       "      <td>184500.000000</td>\n",
       "      <td>7.551900e+05</td>\n",
       "      <td>6.750000e+05</td>\n",
       "      <td>19735.000000</td>\n",
       "      <td>5891.000000</td>\n",
       "      <td>3.000000</td>\n",
       "      <td>2.000000</td>\n",
       "      <td>0.000000</td>\n",
       "      <td>0.000000</td>\n",
       "      <td>1560.000000</td>\n",
       "    </tr>\n",
       "    <tr>\n",
       "      <th>max</th>\n",
       "      <td>1.000000</td>\n",
       "      <td>337500.000000</td>\n",
       "      <td>1.569042e+06</td>\n",
       "      <td>1.341000e+06</td>\n",
       "      <td>25201.000000</td>\n",
       "      <td>365243.000000</td>\n",
       "      <td>20.000000</td>\n",
       "      <td>3.000000</td>\n",
       "      <td>1.000000</td>\n",
       "      <td>1.000000</td>\n",
       "      <td>4292.000000</td>\n",
       "    </tr>\n",
       "  </tbody>\n",
       "</table>\n",
       "</div>"
      ],
      "text/plain": [
       "              TARGET  AMT_INCOME_TOTAL    AMT_CREDIT  AMT_GOODS_PRICE  \\\n",
       "count  281743.000000     281743.000000  2.817430e+05     2.817430e+05   \n",
       "mean        0.083431     151770.923103  5.355950e+05     4.780778e+05   \n",
       "std         0.276533      62856.350810  3.197472e+05     2.864748e+05   \n",
       "min         0.000000      25650.000000  4.500000e+04     4.050000e+04   \n",
       "25%         0.000000     112500.000000  2.699820e+05     2.250000e+05   \n",
       "50%         0.000000     135000.000000  4.815000e+05     4.500000e+05   \n",
       "75%         0.000000     184500.000000  7.551900e+05     6.750000e+05   \n",
       "max         1.000000     337500.000000  1.569042e+06     1.341000e+06   \n",
       "\n",
       "          DAYS_BIRTH  DAYS_EMPLOYED  CNT_FAM_MEMBERS  REGION_RATING_CLIENT  \\\n",
       "count  281743.000000  281743.000000    281743.000000         281743.000000   \n",
       "mean    16026.079090   69816.943871         2.143265              2.073436   \n",
       "std      4415.482085  141193.135839         0.912922              0.494515   \n",
       "min      7489.000000       0.000000         1.000000              1.000000   \n",
       "25%     12325.000000     922.000000         2.000000              2.000000   \n",
       "50%     15723.000000    2199.000000         2.000000              2.000000   \n",
       "75%     19735.000000    5891.000000         3.000000              2.000000   \n",
       "max     25201.000000  365243.000000        20.000000              3.000000   \n",
       "\n",
       "       REG_REGION_NOT_LIVE_REGION  REG_REGION_NOT_WORK_REGION  \\\n",
       "count               281743.000000               281743.000000   \n",
       "mean                     0.013573                    0.045428   \n",
       "std                      0.115709                    0.208241   \n",
       "min                      0.000000                    0.000000   \n",
       "25%                      0.000000                    0.000000   \n",
       "50%                      0.000000                    0.000000   \n",
       "75%                      0.000000                    0.000000   \n",
       "max                      1.000000                    1.000000   \n",
       "\n",
       "       DAYS_LAST_PHONE_CHANGE  \n",
       "count           281743.000000  \n",
       "mean               954.150719  \n",
       "std                821.779243  \n",
       "min                  0.000000  \n",
       "25%                270.000000  \n",
       "50%                748.000000  \n",
       "75%               1560.000000  \n",
       "max               4292.000000  "
      ]
     },
     "execution_count": 51,
     "metadata": {},
     "output_type": "execute_result"
    }
   ],
   "source": [
    "application.describe()"
   ]
  },
  {
   "cell_type": "markdown",
   "metadata": {},
   "source": [
    "# UNIVARIATE ANALYSIS"
   ]
  },
  {
   "cell_type": "markdown",
   "metadata": {},
   "source": [
    "UNIVARIATE ANALYSIS ON CATEGORICAL VARIABLES"
   ]
  },
  {
   "cell_type": "code",
   "execution_count": 52,
   "metadata": {},
   "outputs": [
    {
     "data": {
      "image/png": "[encoded data removed]",
      "text/plain": [
       "<Figure size 432x288 with 1 Axes>"
      ]
     },
     "metadata": {
      "needs_background": "light"
     },
     "output_type": "display_data"
    }
   ],
   "source": [
    "#1. Gender of the client\n",
    "\n",
    "application.CODE_GENDER.value_counts(normalize= True).plot.barh()\n",
    "plt.title(\"Gender of the client\\n\", fontdict={'fontsize':20, 'fontweight': 5, 'color':'green'})\n",
    "plt.show()\n"
   ]
  },
  {
   "cell_type": "code",
   "execution_count": 53,
   "metadata": {},
   "outputs": [
    {
     "data": {
      "image/png": "[encoded data removed]",
      "text/plain": [
       "<Figure size 432x288 with 1 Axes>"
      ]
     },
     "metadata": {
      "needs_background": "light"
     },
     "output_type": "display_data"
    }
   ],
   "source": [
    "#2. Clients income type (businessman, working, maternity leave,…)\n",
    "\n",
    "\n",
    "application.NAME_INCOME_TYPE.value_counts(normalize= True).plot.barh()\n",
    "plt.title(\"Clients income type (businessman, working, maternity leave,…)\\n\", fontdict={'fontsize':20, 'fontweight': 5, 'color':'green'})\n",
    "plt.show()"
   ]
  },
  {
   "cell_type": "code",
   "execution_count": 54,
   "metadata": {},
   "outputs": [
    {
     "data": {
      "image/png": "[encoded data removed]",
      "text/plain": [
       "<Figure size 432x288 with 1 Axes>"
      ]
     },
     "metadata": {
      "needs_background": "light"
     },
     "output_type": "display_data"
    }
   ],
   "source": [
    "#3.  Identification if loan is cash or revolving\n",
    "\n",
    "application.NAME_CONTRACT_TYPE.value_counts(normalize= True).plot.barh()\n",
    "plt.title(\"Identification if loan is cash or revolving\\n\", fontdict={'fontsize':20, 'fontweight': 5, 'color':'green'})\n",
    "plt.show()"
   ]
  },
  {
   "cell_type": "code",
   "execution_count": 55,
   "metadata": {},
   "outputs": [
    {
     "data": {
      "image/png": "[encoded data removed]",
      "text/plain": [
       "<Figure size 432x288 with 1 Axes>"
      ]
     },
     "metadata": {
      "needs_background": "light"
     },
     "output_type": "display_data"
    }
   ],
   "source": [
    "#4. IF Client owns a car\n",
    "\n",
    "application.FLAG_OWN_CAR.value_counts(normalize= True).plot.barh()\n",
    "plt.title(\"If the client owns a car\\n\", fontdict={'fontsize':20, 'fontweight': 5, 'color':'green'})\n",
    "plt.show()"
   ]
  },
  {
   "cell_type": "code",
   "execution_count": 56,
   "metadata": {},
   "outputs": [
    {
     "data": {
      "image/png": "[encoded data removed]",
      "text/plain": [
       "<Figure size 432x288 with 1 Axes>"
      ]
     },
     "metadata": {
      "needs_background": "light"
     },
     "output_type": "display_data"
    }
   ],
   "source": [
    "#5. Do they own a real estate\n",
    "\n",
    "application.FLAG_OWN_REALTY.value_counts(normalize= True).plot.barh()\n",
    "plt.title(\"Do they own a real estate\\n\", fontdict={'fontsize':20, 'fontweight': 5, 'color':'green'})\n",
    "plt.show()"
   ]
  },
  {
   "cell_type": "code",
   "execution_count": 57,
   "metadata": {},
   "outputs": [
    {
     "data": {
      "image/png": "[encoded data removed]",
      "text/plain": [
       "<Figure size 432x288 with 1 Axes>"
      ]
     },
     "metadata": {
      "needs_background": "light"
     },
     "output_type": "display_data"
    }
   ],
   "source": [
    "#6. Family status of the client\n",
    "\n",
    "application.NAME_FAMILY_STATUS .value_counts(normalize= True).plot.barh()\n",
    "\n",
    "plt.title(\"Family status of the client\\n\", fontdict={'fontsize':20, 'fontweight': 5, 'color':'green'})\n",
    "plt.show()"
   ]
  },
  {
   "cell_type": "code",
   "execution_count": 58,
   "metadata": {},
   "outputs": [
    {
     "data": {
      "image/png": "[encoded data removed]",
      "text/plain": [
       "<Figure size 432x288 with 1 Axes>"
      ]
     },
     "metadata": {
      "needs_background": "light"
     },
     "output_type": "display_data"
    }
   ],
   "source": [
    "#7. Education Type of the client\n",
    "\n",
    "application.NAME_EDUCATION_TYPE.value_counts(normalize= True).plot.barh()\n",
    "plt.title(\"Education Type of the client\\n\", fontdict={'fontsize':20, 'fontweight': 5, 'color':'green'})\n",
    "plt.show()"
   ]
  },
  {
   "cell_type": "code",
   "execution_count": 59,
   "metadata": {},
   "outputs": [
    {
     "data": {
      "image/png": "[encoded data removed]",
      "text/plain": [
       "<Figure size 1152x504 with 1 Axes>"
      ]
     },
     "metadata": {
      "needs_background": "light"
     },
     "output_type": "display_data"
    }
   ],
   "source": [
    "#8. Type of organisation where client works\n",
    "\n",
    "plt.figure(figsize=[16,7])\n",
    "application.ORGANIZATION_TYPE  .value_counts(normalize= True).plot.bar()\n",
    "plt.title(\"Type of organisation where client works\\n\", fontdict={'fontsize':20, 'fontweight': 5, 'color':'green'})\n",
    "plt.xticks(rotation=90)\n",
    "plt.show() "
   ]
  },
  {
   "cell_type": "code",
   "execution_count": 60,
   "metadata": {},
   "outputs": [
    {
     "data": {
      "image/png": "[encoded data removed]",
      "text/plain": [
       "<Figure size 432x288 with 1 Axes>"
      ]
     },
     "metadata": {
      "needs_background": "light"
     },
     "output_type": "display_data"
    }
   ],
   "source": [
    "#9. WEEKDAY APPLICATION PROCESS\n",
    "\n",
    "application.WEEKDAY_APPR_PROCESS_START.value_counts(normalize= True).plot.barh()\n",
    "plt.title(\"On which day of the week did the client apply for the loan\\n\", fontdict={'fontsize':20, 'fontweight': 5, 'color':'green'})\n",
    "plt.show()"
   ]
  },
  {
   "cell_type": "markdown",
   "metadata": {},
   "source": [
    "UNIVARIATE ANALYSIS ON NUMERICAL CATEGORICAL VARIABLES"
   ]
  },
  {
   "cell_type": "code",
   "execution_count": 61,
   "metadata": {},
   "outputs": [
    {
     "name": "stdout",
     "output_type": "stream",
     "text": [
      "<class 'pandas.core.frame.DataFrame'>\n",
      "Int64Index: 281743 entries, 0 to 307510\n",
      "Data columns (total 21 columns):\n",
      " #   Column                      Non-Null Count   Dtype  \n",
      "---  ------                      --------------   -----  \n",
      " 0   TARGET                      281743 non-null  int64  \n",
      " 1   NAME_CONTRACT_TYPE          281743 non-null  object \n",
      " 2   CODE_GENDER                 281743 non-null  object \n",
      " 3   FLAG_OWN_CAR                281743 non-null  object \n",
      " 4   FLAG_OWN_REALTY             281743 non-null  object \n",
      " 5   AMT_INCOME_TOTAL            281743 non-null  float64\n",
      " 6   AMT_CREDIT                  281743 non-null  float64\n",
      " 7   AMT_GOODS_PRICE             281743 non-null  float64\n",
      " 8   NAME_INCOME_TYPE            281743 non-null  object \n",
      " 9   NAME_EDUCATION_TYPE         281743 non-null  object \n",
      " 10  NAME_FAMILY_STATUS          281743 non-null  object \n",
      " 11  NAME_HOUSING_TYPE           281743 non-null  object \n",
      " 12  DAYS_BIRTH                  281743 non-null  int64  \n",
      " 13  DAYS_EMPLOYED               281743 non-null  int64  \n",
      " 14  CNT_FAM_MEMBERS             281743 non-null  float64\n",
      " 15  REGION_RATING_CLIENT        281743 non-null  int64  \n",
      " 16  WEEKDAY_APPR_PROCESS_START  281743 non-null  object \n",
      " 17  REG_REGION_NOT_LIVE_REGION  281743 non-null  int64  \n",
      " 18  REG_REGION_NOT_WORK_REGION  281743 non-null  int64  \n",
      " 19  ORGANIZATION_TYPE           281743 non-null  object \n",
      " 20  DAYS_LAST_PHONE_CHANGE      281743 non-null  float64\n",
      "dtypes: float64(5), int64(6), object(10)\n",
      "memory usage: 47.3+ MB\n"
     ]
    }
   ],
   "source": [
    "application.info()"
   ]
  },
  {
   "cell_type": "code",
   "execution_count": 62,
   "metadata": {},
   "outputs": [
    {
     "data": {
      "text/plain": [
       "count    281743.000000\n",
       "mean          0.083431\n",
       "std           0.276533\n",
       "min           0.000000\n",
       "25%           0.000000\n",
       "50%           0.000000\n",
       "75%           0.000000\n",
       "max           1.000000\n",
       "Name: TARGET, dtype: float64"
      ]
     },
     "execution_count": 62,
     "metadata": {},
     "output_type": "execute_result"
    }
   ],
   "source": [
    "application['TARGET'].describe()"
   ]
  },
  {
   "cell_type": "code",
   "execution_count": 63,
   "metadata": {},
   "outputs": [
    {
     "data": {
      "image/png": "[encoded data removed]",
      "text/plain": [
       "<Figure size 1152x504 with 1 Axes>"
      ]
     },
     "metadata": {
      "needs_background": "light"
     },
     "output_type": "display_data"
    }
   ],
   "source": [
    "#1. TARGET VALUE\n",
    "plt.figure(figsize=[16,7])\n",
    "application.TARGET.value_counts(normalize= True).plot.barh()\n",
    "plt.title(\"Target variable (1 - client with payment difficulties: he/she had late payment more than X days on at least one of the first Y installments of the loan in our sample, 0 - all other cases)\\n\", fontdict={'fontsize':20, 'fontweight': 5, 'color':'green'})\n",
    "plt.show()"
   ]
  },
  {
   "cell_type": "code",
   "execution_count": 64,
   "metadata": {},
   "outputs": [
    {
     "data": {
      "text/plain": [
       "count    281743.000000\n",
       "mean        954.150719\n",
       "std         821.779243\n",
       "min           0.000000\n",
       "25%         270.000000\n",
       "50%         748.000000\n",
       "75%        1560.000000\n",
       "max        4292.000000\n",
       "Name: DAYS_LAST_PHONE_CHANGE, dtype: float64"
      ]
     },
     "execution_count": 64,
     "metadata": {},
     "output_type": "execute_result"
    }
   ],
   "source": [
    "#2. DAYS_LAST_PHONE_CHANGE\n",
    "application.DAYS_LAST_PHONE_CHANGE.describe()"
   ]
  },
  {
   "cell_type": "code",
   "execution_count": 65,
   "metadata": {},
   "outputs": [
    {
     "data": {
      "image/png": "[encoded data removed]",
      "text/plain": [
       "<Figure size 432x288 with 1 Axes>"
      ]
     },
     "metadata": {
      "needs_background": "light"
     },
     "output_type": "display_data"
    }
   ],
   "source": [
    "sns.boxplot(application.DAYS_LAST_PHONE_CHANGE)\n",
    "plt.show()"
   ]
  },
  {
   "cell_type": "code",
   "execution_count": 66,
   "metadata": {},
   "outputs": [],
   "source": [
    "Q1 = application['DAYS_LAST_PHONE_CHANGE'].quantile(0.25)\n",
    "Q3 = application['DAYS_LAST_PHONE_CHANGE'].quantile(0.75)\n",
    "IQR = Q3-Q1\n",
    "upper_fence = Q3+1.5*IQR\n",
    "lower_fence = Q1-1.5*IQR"
   ]
  },
  {
   "cell_type": "code",
   "execution_count": 67,
   "metadata": {},
   "outputs": [],
   "source": [
    "application = application[~(application['DAYS_LAST_PHONE_CHANGE']>upper_fence)]\n",
    "application = application[~(application['DAYS_LAST_PHONE_CHANGE']<lower_fence)]"
   ]
  },
  {
   "cell_type": "code",
   "execution_count": 68,
   "metadata": {},
   "outputs": [
    {
     "data": {
      "image/png": "[encoded data removed]",
      "text/plain": [
       "<Figure size 432x288 with 1 Axes>"
      ]
     },
     "metadata": {
      "needs_background": "light"
     },
     "output_type": "display_data"
    }
   ],
   "source": [
    "sns.boxplot(application['DAYS_LAST_PHONE_CHANGE'])\n",
    "plt.show()"
   ]
  },
  {
   "cell_type": "code",
   "execution_count": 69,
   "metadata": {},
   "outputs": [
    {
     "name": "stdout",
     "output_type": "stream",
     "text": [
      "<class 'pandas.core.frame.DataFrame'>\n",
      "Int64Index: 281353 entries, 0 to 307510\n",
      "Data columns (total 21 columns):\n",
      " #   Column                      Non-Null Count   Dtype  \n",
      "---  ------                      --------------   -----  \n",
      " 0   TARGET                      281353 non-null  int64  \n",
      " 1   NAME_CONTRACT_TYPE          281353 non-null  object \n",
      " 2   CODE_GENDER                 281353 non-null  object \n",
      " 3   FLAG_OWN_CAR                281353 non-null  object \n",
      " 4   FLAG_OWN_REALTY             281353 non-null  object \n",
      " 5   AMT_INCOME_TOTAL            281353 non-null  float64\n",
      " 6   AMT_CREDIT                  281353 non-null  float64\n",
      " 7   AMT_GOODS_PRICE             281353 non-null  float64\n",
      " 8   NAME_INCOME_TYPE            281353 non-null  object \n",
      " 9   NAME_EDUCATION_TYPE         281353 non-null  object \n",
      " 10  NAME_FAMILY_STATUS          281353 non-null  object \n",
      " 11  NAME_HOUSING_TYPE           281353 non-null  object \n",
      " 12  DAYS_BIRTH                  281353 non-null  int64  \n",
      " 13  DAYS_EMPLOYED               281353 non-null  int64  \n",
      " 14  CNT_FAM_MEMBERS             281353 non-null  float64\n",
      " 15  REGION_RATING_CLIENT        281353 non-null  int64  \n",
      " 16  WEEKDAY_APPR_PROCESS_START  281353 non-null  object \n",
      " 17  REG_REGION_NOT_LIVE_REGION  281353 non-null  int64  \n",
      " 18  REG_REGION_NOT_WORK_REGION  281353 non-null  int64  \n",
      " 19  ORGANIZATION_TYPE           281353 non-null  object \n",
      " 20  DAYS_LAST_PHONE_CHANGE      281353 non-null  float64\n",
      "dtypes: float64(5), int64(6), object(10)\n",
      "memory usage: 47.2+ MB\n"
     ]
    }
   ],
   "source": [
    "application.info()"
   ]
  },
  {
   "cell_type": "code",
   "execution_count": 70,
   "metadata": {},
   "outputs": [
    {
     "data": {
      "image/png": "[encoded data removed]",
      "text/plain": [
       "<Figure size 432x288 with 1 Axes>"
      ]
     },
     "metadata": {
      "needs_background": "light"
     },
     "output_type": "display_data"
    }
   ],
   "source": [
    "plt.hist(application['DAYS_LAST_PHONE_CHANGE'])\n",
    "plt.show()"
   ]
  },
  {
   "cell_type": "code",
   "execution_count": 71,
   "metadata": {},
   "outputs": [
    {
     "data": {
      "text/plain": [
       "3494.0"
      ]
     },
     "execution_count": 71,
     "metadata": {},
     "output_type": "execute_result"
    }
   ],
   "source": [
    "max(application['DAYS_LAST_PHONE_CHANGE'])"
   ]
  },
  {
   "cell_type": "markdown",
   "metadata": {},
   "source": [
    "# BIVARIATE AND MULTI-VARIATE ANALYSIS"
   ]
  },
  {
   "cell_type": "code",
   "execution_count": 72,
   "metadata": {},
   "outputs": [
    {
     "data": {
      "text/plain": [
       "array([1, 0], dtype=int64)"
      ]
     },
     "execution_count": 72,
     "metadata": {},
     "output_type": "execute_result"
    }
   ],
   "source": [
    "application.TARGET.unique()"
   ]
  },
  {
   "cell_type": "code",
   "execution_count": 73,
   "metadata": {},
   "outputs": [
    {
     "name": "stdout",
     "output_type": "stream",
     "text": [
      "<class 'pandas.core.frame.DataFrame'>\n",
      "Int64Index: 281353 entries, 0 to 307510\n",
      "Data columns (total 21 columns):\n",
      " #   Column                      Non-Null Count   Dtype  \n",
      "---  ------                      --------------   -----  \n",
      " 0   TARGET                      281353 non-null  int64  \n",
      " 1   NAME_CONTRACT_TYPE          281353 non-null  object \n",
      " 2   CODE_GENDER                 281353 non-null  object \n",
      " 3   FLAG_OWN_CAR                281353 non-null  object \n",
      " 4   FLAG_OWN_REALTY             281353 non-null  object \n",
      " 5   AMT_INCOME_TOTAL            281353 non-null  float64\n",
      " 6   AMT_CREDIT                  281353 non-null  float64\n",
      " 7   AMT_GOODS_PRICE             281353 non-null  float64\n",
      " 8   NAME_INCOME_TYPE            281353 non-null  object \n",
      " 9   NAME_EDUCATION_TYPE         281353 non-null  object \n",
      " 10  NAME_FAMILY_STATUS          281353 non-null  object \n",
      " 11  NAME_HOUSING_TYPE           281353 non-null  object \n",
      " 12  DAYS_BIRTH                  281353 non-null  int64  \n",
      " 13  DAYS_EMPLOYED               281353 non-null  int64  \n",
      " 14  CNT_FAM_MEMBERS             281353 non-null  float64\n",
      " 15  REGION_RATING_CLIENT        281353 non-null  int64  \n",
      " 16  WEEKDAY_APPR_PROCESS_START  281353 non-null  object \n",
      " 17  REG_REGION_NOT_LIVE_REGION  281353 non-null  int64  \n",
      " 18  REG_REGION_NOT_WORK_REGION  281353 non-null  int64  \n",
      " 19  ORGANIZATION_TYPE           281353 non-null  object \n",
      " 20  DAYS_LAST_PHONE_CHANGE      281353 non-null  float64\n",
      "dtypes: float64(5), int64(6), object(10)\n",
      "memory usage: 47.2+ MB\n"
     ]
    }
   ],
   "source": [
    "application.info()"
   ]
  },
  {
   "cell_type": "code",
   "execution_count": null,
   "metadata": {},
   "outputs": [],
   "source": []
  },
  {
   "cell_type": "code",
   "execution_count": 74,
   "metadata": {},
   "outputs": [
    {
     "data": {
      "text/html": [
       "<div>\n",
       "<style scoped>\n",
       "    .dataframe tbody tr th:only-of-type {\n",
       "        vertical-align: middle;\n",
       "    }\n",
       "\n",
       "    .dataframe tbody tr th {\n",
       "        vertical-align: top;\n",
       "    }\n",
       "\n",
       "    .dataframe thead th {\n",
       "        text-align: right;\n",
       "    }\n",
       "</style>\n",
       "<table border=\"1\" class=\"dataframe\">\n",
       "  <thead>\n",
       "    <tr style=\"text-align: right;\">\n",
       "      <th></th>\n",
       "      <th></th>\n",
       "      <th>AMT_INCOME_TOTAL</th>\n",
       "      <th>AMT_CREDIT</th>\n",
       "      <th>AMT_GOODS_PRICE</th>\n",
       "      <th>DAYS_BIRTH</th>\n",
       "      <th>DAYS_EMPLOYED</th>\n",
       "      <th>REGION_RATING_CLIENT</th>\n",
       "      <th>REG_REGION_NOT_LIVE_REGION</th>\n",
       "      <th>REG_REGION_NOT_WORK_REGION</th>\n",
       "      <th>DAYS_LAST_PHONE_CHANGE</th>\n",
       "    </tr>\n",
       "    <tr>\n",
       "      <th>TARGET</th>\n",
       "      <th></th>\n",
       "      <th></th>\n",
       "      <th></th>\n",
       "      <th></th>\n",
       "      <th></th>\n",
       "      <th></th>\n",
       "      <th></th>\n",
       "      <th></th>\n",
       "      <th></th>\n",
       "      <th></th>\n",
       "    </tr>\n",
       "  </thead>\n",
       "  <tbody>\n",
       "    <tr>\n",
       "      <th rowspan=\"9\" valign=\"top\">0</th>\n",
       "      <th>AMT_INCOME_TOTAL</th>\n",
       "      <td>1.000000</td>\n",
       "      <td>0.336304</td>\n",
       "      <td>0.340244</td>\n",
       "      <td>-0.099946</td>\n",
       "      <td>-0.186231</td>\n",
       "      <td>-0.179488</td>\n",
       "      <td>0.071938</td>\n",
       "      <td>0.150429</td>\n",
       "      <td>0.057653</td>\n",
       "    </tr>\n",
       "    <tr>\n",
       "      <th>AMT_CREDIT</th>\n",
       "      <td>0.336304</td>\n",
       "      <td>1.000000</td>\n",
       "      <td>0.982018</td>\n",
       "      <td>0.046821</td>\n",
       "      <td>-0.067622</td>\n",
       "      <td>-0.052886</td>\n",
       "      <td>0.008309</td>\n",
       "      <td>0.027925</td>\n",
       "      <td>0.075467</td>\n",
       "    </tr>\n",
       "    <tr>\n",
       "      <th>AMT_GOODS_PRICE</th>\n",
       "      <td>0.340244</td>\n",
       "      <td>0.982018</td>\n",
       "      <td>1.000000</td>\n",
       "      <td>0.044677</td>\n",
       "      <td>-0.066018</td>\n",
       "      <td>-0.055021</td>\n",
       "      <td>0.010563</td>\n",
       "      <td>0.029177</td>\n",
       "      <td>0.079564</td>\n",
       "    </tr>\n",
       "    <tr>\n",
       "      <th>DAYS_BIRTH</th>\n",
       "      <td>-0.099946</td>\n",
       "      <td>0.046821</td>\n",
       "      <td>0.044677</td>\n",
       "      <td>1.000000</td>\n",
       "      <td>0.636772</td>\n",
       "      <td>-0.003486</td>\n",
       "      <td>-0.065926</td>\n",
       "      <td>-0.097672</td>\n",
       "      <td>0.074912</td>\n",
       "    </tr>\n",
       "    <tr>\n",
       "      <th>DAYS_EMPLOYED</th>\n",
       "      <td>-0.186231</td>\n",
       "      <td>-0.067622</td>\n",
       "      <td>-0.066018</td>\n",
       "      <td>0.636772</td>\n",
       "      <td>1.000000</td>\n",
       "      <td>0.031031</td>\n",
       "      <td>-0.036706</td>\n",
       "      <td>-0.106646</td>\n",
       "      <td>-0.023220</td>\n",
       "    </tr>\n",
       "    <tr>\n",
       "      <th>REGION_RATING_CLIENT</th>\n",
       "      <td>-0.179488</td>\n",
       "      <td>-0.052886</td>\n",
       "      <td>-0.055021</td>\n",
       "      <td>-0.003486</td>\n",
       "      <td>0.031031</td>\n",
       "      <td>1.000000</td>\n",
       "      <td>-0.040025</td>\n",
       "      <td>-0.125147</td>\n",
       "      <td>-0.019112</td>\n",
       "    </tr>\n",
       "    <tr>\n",
       "      <th>REG_REGION_NOT_LIVE_REGION</th>\n",
       "      <td>0.071938</td>\n",
       "      <td>0.008309</td>\n",
       "      <td>0.010563</td>\n",
       "      <td>-0.065926</td>\n",
       "      <td>-0.036706</td>\n",
       "      <td>-0.040025</td>\n",
       "      <td>1.000000</td>\n",
       "      <td>0.453134</td>\n",
       "      <td>-0.037975</td>\n",
       "    </tr>\n",
       "    <tr>\n",
       "      <th>REG_REGION_NOT_WORK_REGION</th>\n",
       "      <td>0.150429</td>\n",
       "      <td>0.027925</td>\n",
       "      <td>0.029177</td>\n",
       "      <td>-0.097672</td>\n",
       "      <td>-0.106646</td>\n",
       "      <td>-0.125147</td>\n",
       "      <td>0.453134</td>\n",
       "      <td>1.000000</td>\n",
       "      <td>-0.036750</td>\n",
       "    </tr>\n",
       "    <tr>\n",
       "      <th>DAYS_LAST_PHONE_CHANGE</th>\n",
       "      <td>0.057653</td>\n",
       "      <td>0.075467</td>\n",
       "      <td>0.079564</td>\n",
       "      <td>0.074912</td>\n",
       "      <td>-0.023220</td>\n",
       "      <td>-0.019112</td>\n",
       "      <td>-0.037975</td>\n",
       "      <td>-0.036750</td>\n",
       "      <td>1.000000</td>\n",
       "    </tr>\n",
       "    <tr>\n",
       "      <th rowspan=\"9\" valign=\"top\">1</th>\n",
       "      <th>AMT_INCOME_TOTAL</th>\n",
       "      <td>1.000000</td>\n",
       "      <td>0.310913</td>\n",
       "      <td>0.312057</td>\n",
       "      <td>-0.017330</td>\n",
       "      <td>-0.131139</td>\n",
       "      <td>-0.147926</td>\n",
       "      <td>0.068126</td>\n",
       "      <td>0.149414</td>\n",
       "      <td>0.073003</td>\n",
       "    </tr>\n",
       "    <tr>\n",
       "      <th>AMT_CREDIT</th>\n",
       "      <td>0.310913</td>\n",
       "      <td>1.000000</td>\n",
       "      <td>0.977975</td>\n",
       "      <td>0.131574</td>\n",
       "      <td>-0.000118</td>\n",
       "      <td>-0.041607</td>\n",
       "      <td>-0.001775</td>\n",
       "      <td>0.018686</td>\n",
       "      <td>0.103250</td>\n",
       "    </tr>\n",
       "    <tr>\n",
       "      <th>AMT_GOODS_PRICE</th>\n",
       "      <td>0.312057</td>\n",
       "      <td>0.977975</td>\n",
       "      <td>1.000000</td>\n",
       "      <td>0.132620</td>\n",
       "      <td>0.005206</td>\n",
       "      <td>-0.050443</td>\n",
       "      <td>0.001901</td>\n",
       "      <td>0.022878</td>\n",
       "      <td>0.113179</td>\n",
       "    </tr>\n",
       "    <tr>\n",
       "      <th>DAYS_BIRTH</th>\n",
       "      <td>-0.017330</td>\n",
       "      <td>0.131574</td>\n",
       "      <td>0.132620</td>\n",
       "      <td>1.000000</td>\n",
       "      <td>0.588971</td>\n",
       "      <td>-0.034157</td>\n",
       "      <td>-0.055409</td>\n",
       "      <td>-0.069948</td>\n",
       "      <td>0.104492</td>\n",
       "    </tr>\n",
       "    <tr>\n",
       "      <th>DAYS_EMPLOYED</th>\n",
       "      <td>-0.131139</td>\n",
       "      <td>-0.000118</td>\n",
       "      <td>0.005206</td>\n",
       "      <td>0.588971</td>\n",
       "      <td>1.000000</td>\n",
       "      <td>-0.000123</td>\n",
       "      <td>-0.032551</td>\n",
       "      <td>-0.088356</td>\n",
       "      <td>-0.001294</td>\n",
       "    </tr>\n",
       "    <tr>\n",
       "      <th>REGION_RATING_CLIENT</th>\n",
       "      <td>-0.147926</td>\n",
       "      <td>-0.041607</td>\n",
       "      <td>-0.050443</td>\n",
       "      <td>-0.034157</td>\n",
       "      <td>-0.000123</td>\n",
       "      <td>1.000000</td>\n",
       "      <td>-0.027646</td>\n",
       "      <td>-0.101169</td>\n",
       "      <td>-0.012239</td>\n",
       "    </tr>\n",
       "    <tr>\n",
       "      <th>REG_REGION_NOT_LIVE_REGION</th>\n",
       "      <td>0.068126</td>\n",
       "      <td>-0.001775</td>\n",
       "      <td>0.001901</td>\n",
       "      <td>-0.055409</td>\n",
       "      <td>-0.032551</td>\n",
       "      <td>-0.027646</td>\n",
       "      <td>1.000000</td>\n",
       "      <td>0.493484</td>\n",
       "      <td>-0.035372</td>\n",
       "    </tr>\n",
       "    <tr>\n",
       "      <th>REG_REGION_NOT_WORK_REGION</th>\n",
       "      <td>0.149414</td>\n",
       "      <td>0.018686</td>\n",
       "      <td>0.022878</td>\n",
       "      <td>-0.069948</td>\n",
       "      <td>-0.088356</td>\n",
       "      <td>-0.101169</td>\n",
       "      <td>0.493484</td>\n",
       "      <td>1.000000</td>\n",
       "      <td>-0.039422</td>\n",
       "    </tr>\n",
       "    <tr>\n",
       "      <th>DAYS_LAST_PHONE_CHANGE</th>\n",
       "      <td>0.073003</td>\n",
       "      <td>0.103250</td>\n",
       "      <td>0.113179</td>\n",
       "      <td>0.104492</td>\n",
       "      <td>-0.001294</td>\n",
       "      <td>-0.012239</td>\n",
       "      <td>-0.035372</td>\n",
       "      <td>-0.039422</td>\n",
       "      <td>1.000000</td>\n",
       "    </tr>\n",
       "  </tbody>\n",
       "</table>\n",
       "</div>"
      ],
      "text/plain": [
       "                                   AMT_INCOME_TOTAL  AMT_CREDIT  \\\n",
       "TARGET                                                            \n",
       "0      AMT_INCOME_TOTAL                    1.000000    0.336304   \n",
       "       AMT_CREDIT                          0.336304    1.000000   \n",
       "       AMT_GOODS_PRICE                     0.340244    0.982018   \n",
       "       DAYS_BIRTH                         -0.099946    0.046821   \n",
       "       DAYS_EMPLOYED                      -0.186231   -0.067622   \n",
       "       REGION_RATING_CLIENT               -0.179488   -0.052886   \n",
       "       REG_REGION_NOT_LIVE_REGION          0.071938    0.008309   \n",
       "       REG_REGION_NOT_WORK_REGION          0.150429    0.027925   \n",
       "       DAYS_LAST_PHONE_CHANGE              0.057653    0.075467   \n",
       "1      AMT_INCOME_TOTAL                    1.000000    0.310913   \n",
       "       AMT_CREDIT                          0.310913    1.000000   \n",
       "       AMT_GOODS_PRICE                     0.312057    0.977975   \n",
       "       DAYS_BIRTH                         -0.017330    0.131574   \n",
       "       DAYS_EMPLOYED                      -0.131139   -0.000118   \n",
       "       REGION_RATING_CLIENT               -0.147926   -0.041607   \n",
       "       REG_REGION_NOT_LIVE_REGION          0.068126   -0.001775   \n",
       "       REG_REGION_NOT_WORK_REGION          0.149414    0.018686   \n",
       "       DAYS_LAST_PHONE_CHANGE              0.073003    0.103250   \n",
       "\n",
       "                                   AMT_GOODS_PRICE  DAYS_BIRTH  DAYS_EMPLOYED  \\\n",
       "TARGET                                                                          \n",
       "0      AMT_INCOME_TOTAL                   0.340244   -0.099946      -0.186231   \n",
       "       AMT_CREDIT                         0.982018    0.046821      -0.067622   \n",
       "       AMT_GOODS_PRICE                    1.000000    0.044677      -0.066018   \n",
       "       DAYS_BIRTH                         0.044677    1.000000       0.636772   \n",
       "       DAYS_EMPLOYED                     -0.066018    0.636772       1.000000   \n",
       "       REGION_RATING_CLIENT              -0.055021   -0.003486       0.031031   \n",
       "       REG_REGION_NOT_LIVE_REGION         0.010563   -0.065926      -0.036706   \n",
       "       REG_REGION_NOT_WORK_REGION         0.029177   -0.097672      -0.106646   \n",
       "       DAYS_LAST_PHONE_CHANGE             0.079564    0.074912      -0.023220   \n",
       "1      AMT_INCOME_TOTAL                   0.312057   -0.017330      -0.131139   \n",
       "       AMT_CREDIT                         0.977975    0.131574      -0.000118   \n",
       "       AMT_GOODS_PRICE                    1.000000    0.132620       0.005206   \n",
       "       DAYS_BIRTH                         0.132620    1.000000       0.588971   \n",
       "       DAYS_EMPLOYED                      0.005206    0.588971       1.000000   \n",
       "       REGION_RATING_CLIENT              -0.050443   -0.034157      -0.000123   \n",
       "       REG_REGION_NOT_LIVE_REGION         0.001901   -0.055409      -0.032551   \n",
       "       REG_REGION_NOT_WORK_REGION         0.022878   -0.069948      -0.088356   \n",
       "       DAYS_LAST_PHONE_CHANGE             0.113179    0.104492      -0.001294   \n",
       "\n",
       "                                   REGION_RATING_CLIENT  \\\n",
       "TARGET                                                    \n",
       "0      AMT_INCOME_TOTAL                       -0.179488   \n",
       "       AMT_CREDIT                             -0.052886   \n",
       "       AMT_GOODS_PRICE                        -0.055021   \n",
       "       DAYS_BIRTH                             -0.003486   \n",
       "       DAYS_EMPLOYED                           0.031031   \n",
       "       REGION_RATING_CLIENT                    1.000000   \n",
       "       REG_REGION_NOT_LIVE_REGION             -0.040025   \n",
       "       REG_REGION_NOT_WORK_REGION             -0.125147   \n",
       "       DAYS_LAST_PHONE_CHANGE                 -0.019112   \n",
       "1      AMT_INCOME_TOTAL                       -0.147926   \n",
       "       AMT_CREDIT                             -0.041607   \n",
       "       AMT_GOODS_PRICE                        -0.050443   \n",
       "       DAYS_BIRTH                             -0.034157   \n",
       "       DAYS_EMPLOYED                          -0.000123   \n",
       "       REGION_RATING_CLIENT                    1.000000   \n",
       "       REG_REGION_NOT_LIVE_REGION             -0.027646   \n",
       "       REG_REGION_NOT_WORK_REGION             -0.101169   \n",
       "       DAYS_LAST_PHONE_CHANGE                 -0.012239   \n",
       "\n",
       "                                   REG_REGION_NOT_LIVE_REGION  \\\n",
       "TARGET                                                          \n",
       "0      AMT_INCOME_TOTAL                              0.071938   \n",
       "       AMT_CREDIT                                    0.008309   \n",
       "       AMT_GOODS_PRICE                               0.010563   \n",
       "       DAYS_BIRTH                                   -0.065926   \n",
       "       DAYS_EMPLOYED                                -0.036706   \n",
       "       REGION_RATING_CLIENT                         -0.040025   \n",
       "       REG_REGION_NOT_LIVE_REGION                    1.000000   \n",
       "       REG_REGION_NOT_WORK_REGION                    0.453134   \n",
       "       DAYS_LAST_PHONE_CHANGE                       -0.037975   \n",
       "1      AMT_INCOME_TOTAL                              0.068126   \n",
       "       AMT_CREDIT                                   -0.001775   \n",
       "       AMT_GOODS_PRICE                               0.001901   \n",
       "       DAYS_BIRTH                                   -0.055409   \n",
       "       DAYS_EMPLOYED                                -0.032551   \n",
       "       REGION_RATING_CLIENT                         -0.027646   \n",
       "       REG_REGION_NOT_LIVE_REGION                    1.000000   \n",
       "       REG_REGION_NOT_WORK_REGION                    0.493484   \n",
       "       DAYS_LAST_PHONE_CHANGE                       -0.035372   \n",
       "\n",
       "                                   REG_REGION_NOT_WORK_REGION  \\\n",
       "TARGET                                                          \n",
       "0      AMT_INCOME_TOTAL                              0.150429   \n",
       "       AMT_CREDIT                                    0.027925   \n",
       "       AMT_GOODS_PRICE                               0.029177   \n",
       "       DAYS_BIRTH                                   -0.097672   \n",
       "       DAYS_EMPLOYED                                -0.106646   \n",
       "       REGION_RATING_CLIENT                         -0.125147   \n",
       "       REG_REGION_NOT_LIVE_REGION                    0.453134   \n",
       "       REG_REGION_NOT_WORK_REGION                    1.000000   \n",
       "       DAYS_LAST_PHONE_CHANGE                       -0.036750   \n",
       "1      AMT_INCOME_TOTAL                              0.149414   \n",
       "       AMT_CREDIT                                    0.018686   \n",
       "       AMT_GOODS_PRICE                               0.022878   \n",
       "       DAYS_BIRTH                                   -0.069948   \n",
       "       DAYS_EMPLOYED                                -0.088356   \n",
       "       REGION_RATING_CLIENT                         -0.101169   \n",
       "       REG_REGION_NOT_LIVE_REGION                    0.493484   \n",
       "       REG_REGION_NOT_WORK_REGION                    1.000000   \n",
       "       DAYS_LAST_PHONE_CHANGE                       -0.039422   \n",
       "\n",
       "                                   DAYS_LAST_PHONE_CHANGE  \n",
       "TARGET                                                     \n",
       "0      AMT_INCOME_TOTAL                          0.057653  \n",
       "       AMT_CREDIT                                0.075467  \n",
       "       AMT_GOODS_PRICE                           0.079564  \n",
       "       DAYS_BIRTH                                0.074912  \n",
       "       DAYS_EMPLOYED                            -0.023220  \n",
       "       REGION_RATING_CLIENT                     -0.019112  \n",
       "       REG_REGION_NOT_LIVE_REGION               -0.037975  \n",
       "       REG_REGION_NOT_WORK_REGION               -0.036750  \n",
       "       DAYS_LAST_PHONE_CHANGE                    1.000000  \n",
       "1      AMT_INCOME_TOTAL                          0.073003  \n",
       "       AMT_CREDIT                                0.103250  \n",
       "       AMT_GOODS_PRICE                           0.113179  \n",
       "       DAYS_BIRTH                                0.104492  \n",
       "       DAYS_EMPLOYED                            -0.001294  \n",
       "       REGION_RATING_CLIENT                     -0.012239  \n",
       "       REG_REGION_NOT_LIVE_REGION               -0.035372  \n",
       "       REG_REGION_NOT_WORK_REGION               -0.039422  \n",
       "       DAYS_LAST_PHONE_CHANGE                    1.000000  "
      ]
     },
     "execution_count": 74,
     "metadata": {},
     "output_type": "execute_result"
    }
   ],
   "source": [
    "corr = application.groupby('TARGET')['AMT_INCOME_TOTAL','AMT_CREDIT','AMT_GOODS_PRICE','DAYS_BIRTH','DAYS_EMPLOYED','REGION_RATING_CLIENT','REG_REGION_NOT_LIVE_REGION','REG_REGION_NOT_WORK_REGION','DAYS_LAST_PHONE_CHANGE'].corr()\n",
    "corr"
   ]
  },
  {
   "cell_type": "code",
   "execution_count": 75,
   "metadata": {},
   "outputs": [
    {
     "data": {
      "image/png": "[encoded data removed]",
      "text/plain": [
       "<Figure size 1440x648 with 2 Axes>"
      ]
     },
     "metadata": {
      "needs_background": "light"
     },
     "output_type": "display_data"
    }
   ],
   "source": [
    "plt.figure(figsize=[20,9])\n",
    "sns.heatmap(corr, annot=True)\n",
    "plt.show()"
   ]
  },
  {
   "cell_type": "markdown",
   "metadata": {},
   "source": [
    "As per the heatmap above on Target - 1(client with payment difficulties: he/she had late payment more than X days on at least one of the first Y installments of the loan in our sample):\n",
    "1. AMT_CREDIT & AMT_INCOME_TOTAL: 0.31\n",
    "2. AMT_CREDIT & AMT_GOODS_PRICE : 0.98\n",
    "3. DAYS_BIRTH & DAYS_EMPLOYED : 0.59\n",
    "4. REG_REGION_NOT_LIVE_REGION & REG_REGION_NOT_WORK_REGION : 0.49\n",
    "5. REG_REGION_NOT_WORK_REGION & AMT_INCOME_TOTAL : 0.15\n",
    "6. AMT_CREDIT & DAYS_BIRTH : 0.13\n",
    "7. AMT_GOODS_PRICE & DAYS_BIRTH : 0.13 \n",
    "8. AMT_INCOME_TOTAL & AMT_GOODS_PRICE : 0.31\n",
    "9. REG_REGION_NOT_LIVE_REGION & AMT_INCOME_TOTAL : 0.068\n",
    "10. AMT_GOODS_PRICE & DAYS_LAST_PHONE_CHANGE : 0.11"
   ]
  }
 ],
 "metadata": {
  "kernelspec": {
   "display_name": "Python 3",
   "language": "python",
   "name": "python3"
  },
  "language_info": {
   "codemirror_mode": {
    "name": "ipython",
    "version": 3
   },
   "file_extension": ".py",
   "mimetype": "text/x-python",
   "name": "python",
   "nbconvert_exporter": "python",
   "pygments_lexer": "ipython3",
   "version": "3.8.8"
  }
 },
 "nbformat": 4,
 "nbformat_minor": 4
}
